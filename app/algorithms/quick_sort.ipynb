{
 "cells": [
  {
   "cell_type": "markdown",
   "metadata": {},
   "source": [
    "分而治之(divide and conquer，D&C) - 一种著名的递归式问题解决方法"
   ]
  },
  {
   "cell_type": "markdown",
   "metadata": {},
   "source": [
    "1. 找出简单的基线条件;\n",
    "2. 确定如何缩小问题的规模，使其符合基线条件。"
   ]
  },
  {
   "cell_type": "code",
   "execution_count": 9,
   "metadata": {},
   "outputs": [
    {
     "name": "stdout",
     "output_type": "stream",
     "text": [
      "quick_sort([14,12,34,1,2,1,4,5,1,2,6,3,12]): [1, 1, 1, 2, 2, 3, 4, 5, 6, 12, 12, 14, 34]\n"
     ]
    }
   ],
   "source": [
    "def quick_sort(arr):\n",
    "    if len(arr) < 2:\n",
    "        return arr\n",
    "    \n",
    "    pivot = arr[0]\n",
    "    less = [item for item in arr[1:] if item <= pivot]\n",
    "    greater =  [item for item in arr[1:] if item > pivot]\n",
    "    return quick_sort(less) + [pivot] + quick_sort(greater)\n",
    "\n",
    "print(f'quick_sort([14,12,34,1,2,1,4,5,1,2,6,3,12]): {quick_sort([14,12,34,1,2,1,4,5,1,2,6,3,12])}')"
   ]
  }
 ],
 "metadata": {
  "kernelspec": {
   "display_name": "Python 3",
   "language": "python",
   "name": "python3"
  },
  "language_info": {
   "codemirror_mode": {
    "name": "ipython",
    "version": 3
   },
   "file_extension": ".py",
   "mimetype": "text/x-python",
   "name": "python",
   "nbconvert_exporter": "python",
   "pygments_lexer": "ipython3",
   "version": "3.8.3"
  }
 },
 "nbformat": 4,
 "nbformat_minor": 4
}
