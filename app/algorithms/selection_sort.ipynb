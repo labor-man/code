{
 "cells": [
  {
   "cell_type": "code",
   "execution_count": 4,
   "metadata": {},
   "outputs": [
    {
     "name": "stdout",
     "output_type": "stream",
     "text": [
      "[1, 1, 2, 3, 3, 5, 5, 12, 12, 15, 123, 123, 154]\n"
     ]
    }
   ],
   "source": [
    "def find_smallest(arr):\n",
    "    smallest_index = 0\n",
    "    \n",
    "    for i in range(1, len(arr)):\n",
    "        if arr[smallest_index] > arr[i]:\n",
    "            smallest_index = i\n",
    "    \n",
    "    return smallest_index\n",
    "\n",
    "\n",
    "def selection_sort(arr):\n",
    "    sorted_arr = []\n",
    "    \n",
    "    for i in range(len(arr)):\n",
    "        smallest_index = find_smallest(arr)\n",
    "        sorted_arr.append(arr.pop(smallest_index))\n",
    "    \n",
    "    return sorted_arr\n",
    "\n",
    "print(selection_sort([1,5,123,154,12,123,1,15,12,3,5,2,3]))"
   ]
  }
 ],
 "metadata": {
  "kernelspec": {
   "display_name": "Python 3",
   "language": "python",
   "name": "python3"
  },
  "language_info": {
   "codemirror_mode": {
    "name": "ipython",
    "version": 3
   },
   "file_extension": ".py",
   "mimetype": "text/x-python",
   "name": "python",
   "nbconvert_exporter": "python",
   "pygments_lexer": "ipython3",
   "version": "3.8.3"
  }
 },
 "nbformat": 4,
 "nbformat_minor": 4
}
