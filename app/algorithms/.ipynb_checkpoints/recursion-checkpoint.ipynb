{
 "cells": [
  {
   "cell_type": "markdown",
   "metadata": {},
   "source": [
    "每个递归函数都有两部分:基线条件(base case)和递归条件(recursive case)"
   ]
  },
  {
   "cell_type": "code",
   "execution_count": 2,
   "metadata": {},
   "outputs": [
    {
     "name": "stdout",
     "output_type": "stream",
     "text": [
      "fact(5) = 120\n"
     ]
    }
   ],
   "source": [
    "def fact(x): \n",
    "    if x == 1: \n",
    "        return 1\n",
    "    else:\n",
    "        return x * fact(x-1)\n",
    "\n",
    "print(f'fact(5) = {fact(5)}')"
   ]
  }
 ],
 "metadata": {
  "kernelspec": {
   "display_name": "Python 3",
   "language": "python",
   "name": "python3"
  },
  "language_info": {
   "codemirror_mode": {
    "name": "ipython",
    "version": 3
   },
   "file_extension": ".py",
   "mimetype": "text/x-python",
   "name": "python",
   "nbconvert_exporter": "python",
   "pygments_lexer": "ipython3",
   "version": "3.8.3"
  }
 },
 "nbformat": 4,
 "nbformat_minor": 4
}
