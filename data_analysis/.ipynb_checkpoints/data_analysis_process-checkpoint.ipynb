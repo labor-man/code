{
 "cells": [
  {
   "cell_type": "markdown",
   "metadata": {},
   "source": [
    "**Step 1: Ask questions**\n",
    "Either you're given data and ask questions based on it, or you ask questions first and gather data based on that later. In both cases, great questions help you focus on relevant parts of your data and direct your analysis towards meaningful insights.\n",
    "\n",
    "**Step 2: Wrangle data**\n",
    "You get the data you need in a form you can work with in three steps: **gather, assess, clean**. You gather the data you need to answer your questions, assess your data to identify any problems in your data’s quality or structure, and clean your data by modifying, replacing, or removing data to ensure that your dataset is of the highest quality and as well-structured as possible.\n",
    "\n",
    "**Step 3: Perform EDA (Exploratory Data Analysis)**\n",
    "You explore and then augment your data to maximize the potential of your analyses, visualizations, and models. Exploring involves finding patterns in your data, visualizing relationships in your data, and building intuition about what you’re working with. After exploring, you can do things like remove outliers and create better features from your data, also known as feature engineering.\n",
    "\n",
    "**Step 4: Draw conclusions (or even make predictions)**\n",
    "This step is typically approached with machine learning or inferential statistics that are beyond the scope of this course, which will focus on drawing conclusions with descriptive statistics.\n",
    "\n",
    "More on machine learning: Machine Learning Engineer Nanodegree\n",
    "\n",
    "**Step 5: Communicate your results**\n",
    "You often need to justify and convey meaning in the insights you’ve found. Or, if your end goal is to build a system, you usually need to share what you’ve built, explain how you reached design decisions, and report how well it performs. There are many ways to communicate your results: reports, slide decks, blog posts, emails, presentations, or even conversations. Data visualization will always be very valuable."
   ]
  },
  {
   "cell_type": "markdown",
   "metadata": {},
   "source": [
    "**some resources**\n",
    "- [Introduction to Python Programming](https://www.udacity.com/course/introduction-to-python--ud1110)\n",
    "- [NumPy and Pandas by Udacity](https://classroom.udacity.com/courses/ud170)\n",
    "- [Python for Data Analysis](http://www.ruxizhang.com/uploads/4/4/0/2/44023465/python_for_data_analysis.pdf)\n",
    "- [Plotting with Pandas](https://pandas.pydata.org/pandas-docs/stable/user_guide/visualization.html)\n",
    "- [Link to Data Wrangling Course](https://classroom.udacity.com/nanodegrees/nd002/parts/af503f34-9646-4795-a916-190ebc82cb4a)\n",
    "- [full lessons on NumPy and Pandas](https://classroom.udacity.com/courses/ud170)"
   ]
  }
 ],
 "metadata": {
  "kernelspec": {
   "display_name": "Javascript (Node.js)",
   "language": "javascript",
   "name": "javascript"
  },
  "language_info": {
   "file_extension": ".js",
   "mimetype": "application/javascript",
   "name": "javascript",
   "version": "14.5.0"
  }
 },
 "nbformat": 4,
 "nbformat_minor": 4
}
