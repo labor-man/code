{
 "cells": [
  {
   "cell_type": "markdown",
   "metadata": {},
   "source": [
    "# 管理环境"
   ]
  },
  {
   "cell_type": "markdown",
   "metadata": {},
   "source": [
    "查看\n",
    "```zsh\n",
    "conda env list\n",
    "# or\n",
    "conda info --envs\n",
    "```\n",
    "创建\n",
    "```zsh\n",
    "conda create -n env_name [python=X.X] [LIST_OF_PACKAGES]\n",
    "\n",
    "# 从环境文件创建环境\n",
    "conda env create -f environment.yaml\n",
    "```\n",
    "进入\n",
    "```zsh\n",
    "conda activate my_env\n",
    "```\n",
    "停用\n",
    "```zsh\n",
    "conda deactivate\n",
    "```\n",
    "保存\n",
    "```zsh\n",
    "# 导出环境到yaml文件\n",
    "conda env export > environment.yaml\n",
    "\n",
    "```\n",
    "移除\n",
    "```zsh\n",
    "conda env remove -n env_name\n",
    "```"
   ]
  },
  {
   "cell_type": "markdown",
   "metadata": {},
   "source": [
    "# 管理包"
   ]
  },
  {
   "cell_type": "markdown",
   "metadata": {},
   "source": [
    "查看\n",
    "```zsh\n",
    "# 列出当前环境的包\n",
    "conda list\n",
    "# 列出指定环境的\n",
    "conda list -n env_name\n",
    "# 查看指定环境的指定包\n",
    "conda list -n env_name PACKAGE_NAME\n",
    "```\n",
    "安装\n",
    "```bash\n",
    "# 安装单个包\n",
    "conda install PACKAGE_NAME\n",
    "# 安装多个包\n",
    "conda install numpy scipy pandas\n",
    "# 指定版本\n",
    "conda install numpy=1.10\n",
    "```\n",
    "删除\n",
    "```zsh\n",
    "conda remove PACKAGE_NAME\n",
    "```\n",
    "更新\n",
    "```zsh\n",
    "# 更新单个包\n",
    "conda update PACKAGE_NAME\n",
    "# 更新所有包\n",
    "conda update --all\n",
    "```\n",
    "搜索资源包\n",
    "```bash\n",
    "conda search '*beautifulsoup*'\n",
    "```"
   ]
  }
 ],
 "metadata": {
  "kernelspec": {
   "display_name": "Python 3",
   "language": "python",
   "name": "python3"
  },
  "language_info": {
   "codemirror_mode": {
    "name": "ipython",
    "version": 3
   },
   "file_extension": ".py",
   "mimetype": "text/x-python",
   "name": "python",
   "nbconvert_exporter": "python",
   "pygments_lexer": "ipython3",
   "version": "3.8.3"
  }
 },
 "nbformat": 4,
 "nbformat_minor": 4
}
