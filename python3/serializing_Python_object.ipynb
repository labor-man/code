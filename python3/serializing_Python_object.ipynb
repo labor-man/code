{
 "cells": [
  {
   "cell_type": "markdown",
   "metadata": {},
   "source": [
    "> **序列化** 在计算机科学的数据处理中，是指将数据结构或对象状态转换成可取用格式，以留待后续在相同或另一台计算机环境中，能恢复原先状态的过程。依照序列化格式重新获取字节的结果时，可以利用它来产生与原始对象相同语义的副本。对于许多对象，像是使用大量引用的复杂对象，这种序列化重建的过程并不容易。"
   ]
  },
  {
   "cell_type": "code",
   "execution_count": null,
   "metadata": {},
   "outputs": [],
   "source": [
    "import time\n",
    "\n",
    "entry = {}\n",
    "entry['title'] = 'Dive into history, 2009 edition'\n",
    "entry['article_link'] = 'http://diveintomark.org/archives/2009/03/27/dive-into-history-2009-edition'\n",
    "entry['comments_link'] = None\n",
    "entry['internal_id'] = b'\\xDE\\xD5\\xB4\\xF8'\n",
    "entry['tags'] = ('diveintopython', 'docbook', 'html')\n",
    "entry['published'] = True\n",
    "entry['published_date'] = time.strptime('Fri Mar 27 22:20:42 2009')"
   ]
  },
  {
   "cell_type": "markdown",
   "metadata": {},
   "source": [
    "**使用Pickle**\n",
    "\n",
    "1. pickle模块使用的数据格式是特定于Python的"
   ]
  },
  {
   "cell_type": "markdown",
   "metadata": {},
   "source": [
    "- 使用文件"
   ]
  },
  {
   "cell_type": "code",
   "execution_count": null,
   "metadata": {},
   "outputs": [],
   "source": [
    "# pickle.dump()使用流对象并执行序列化\n",
    "import pickle\n",
    "\n",
    "with open('entry.pickle', 'wb') as f:\n",
    "    pickle.dump(entry, f)"
   ]
  },
  {
   "cell_type": "code",
   "execution_count": null,
   "metadata": {},
   "outputs": [],
   "source": [
    "# pickle.load()使用流对象并执行反序列化\n",
    "import pickle\n",
    "with open('entry.pickle', 'rb') as f:\n",
    "    entry = pickle.load(f)\n",
    "    \n",
    "entry"
   ]
  },
  {
   "cell_type": "markdown",
   "metadata": {},
   "source": [
    "- 使用非文件"
   ]
  },
  {
   "cell_type": "code",
   "execution_count": null,
   "metadata": {},
   "outputs": [],
   "source": [
    "import pickle\n",
    "\n",
    "# pickle.dumps()执行序列化\n",
    "b = pickle.dumps(entry)\n",
    "b # ...\n",
    "\n",
    "# pickle.loads()执行反序列化\n",
    "entry3 = pickle.loads(b)\n",
    "entry3"
   ]
  },
  {
   "cell_type": "markdown",
   "metadata": {},
   "source": [
    "**JSON**\n",
    "\n",
    "1. JSON是基于文本的\n",
    "2. JSON允许值之间任意数量的空格"
   ]
  },
  {
   "cell_type": "markdown",
   "metadata": {},
   "source": [
    "数据类型映射(json模块在序列化过程中将元组和列表都静默转换为json数组)"
   ]
  },
  {
   "cell_type": "markdown",
   "metadata": {},
   "source": [
    "| JSON  | Python 3  |  Notes |\n",
    "| :----:  |  :----:     | :----:  |\n",
    "| object |  dictionary    |      |\n",
    "| array |  list    |      |\n",
    "| string |  string    |      |\n",
    "| integer |  integer    |      |\n",
    "| real number |  float    |      |\n",
    "| true |  True    |*      |\n",
    "| false |  False    |*      |\n",
    "| null |  None    |*      |\n",
    "* All json values are case-sensitive.\t"
   ]
  },
  {
   "cell_type": "markdown",
   "metadata": {},
   "source": [
    "- 将数据保存到json文件"
   ]
  },
  {
   "cell_type": "code",
   "execution_count": null,
   "metadata": {},
   "outputs": [],
   "source": [
    "basic_entry = {}\n",
    "basic_entry['id'] = 256\n",
    "basic_entry['title'] = 'Dive into history, 2009 edition'\n",
    "basic_entry['tags'] = ('diveintopython', 'docbook', 'html')\n",
    "basic_entry['published'] = True\n",
    "basic_entry['comments_link'] = None\n",
    "import json\n",
    "with open('basic.json', mode='w', encoding='utf-8') as f:\n",
    "    json.dump(basic_entry, f)   "
   ]
  },
  {
   "cell_type": "markdown",
   "metadata": {},
   "source": [
    "- 序列化JSON不支持的数据类型\n",
    "\n",
    "\n",
    "1. Define your own “mini-serialization format.”, doing the converting-to-a-supported-datatype part."
   ]
  },
  {
   "cell_type": "code",
   "execution_count": null,
   "metadata": {},
   "outputs": [],
   "source": [
    "entry = {'comments_link': None,\n",
    " 'internal_id': b'\\xDE\\xD5\\xB4\\xF8',\n",
    " 'title': 'Dive into history, 2009 edition',\n",
    " 'tags': ('diveintopython', 'docbook', 'html'),\n",
    " 'article_link': 'http://diveintomark.org/archives/2009/03/27/dive-into-history-2009-edition',\n",
    " 'published': True}\n",
    "entry\n",
    "\n",
    "import json\n",
    "def to_json(python_object):\n",
    "    if isinstance(python_object, bytes):\n",
    "        return {'__class__': 'bytes',\n",
    "                '__value__': list(python_object)}\n",
    "    raise TypeError(repr(python_object) + ' is not JSON serializable')\n",
    "    \n",
    "with open('entry.json', 'w', encoding='utf-8') as f:\n",
    "    json.dump(entry, f, default=to_json)"
   ]
  },
  {
   "cell_type": "markdown",
   "metadata": {},
   "source": [
    "- 从json文件加载数据"
   ]
  },
  {
   "cell_type": "code",
   "execution_count": null,
   "metadata": {},
   "outputs": [],
   "source": [
    "entry = None\n",
    "def from_json(json_object):                             \n",
    "    if '__class__' in json_object:                \n",
    "        if json_object['__class__'] == 'bytes':\n",
    "            return bytes(json_object['__value__'])\n",
    "    return json_object\n",
    "\n",
    "with open('entry.json', 'r', encoding='utf-8') as f:\n",
    "    entry = json.load(f, object_hook=from_json)\n",
    "    \n",
    "entry"
   ]
  }
 ],
 "metadata": {
  "kernelspec": {
   "display_name": "Python 3",
   "language": "python",
   "name": "python3"
  },
  "language_info": {
   "codemirror_mode": {
    "name": "ipython",
    "version": 3
   },
   "file_extension": ".py",
   "mimetype": "text/x-python",
   "name": "python",
   "nbconvert_exporter": "python",
   "pygments_lexer": "ipython3",
   "version": "3.8.3"
  }
 },
 "nbformat": 4,
 "nbformat_minor": 4
}
