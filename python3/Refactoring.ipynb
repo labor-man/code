{
 "cells": [
  {
   "cell_type": "markdown",
   "metadata": {},
   "source": [
    "> Simplicity is a virtue."
   ]
  },
  {
   "cell_type": "markdown",
   "metadata": {},
   "source": [
    "> Especially when regular expressions are involved."
   ]
  },
  {
   "cell_type": "markdown",
   "metadata": {},
   "source": [
    "> Unit tests can give you the confidence to do large-scale refactoring."
   ]
  },
  {
   "cell_type": "markdown",
   "metadata": {},
   "source": [
    "- Designing test cases that are specific, automated, and independent\n",
    "- Writing test cases before the code they are testing\n",
    "- Writing tests that test good input and check for proper results\n",
    "- Writing tests that test bad input and check for proper failure responses\n",
    "- Writing and updating test cases to reflect new requirements\n",
    "- Refactoring mercilessly to improve performance, scalability, readability, maintainability, or whatever other -ility you’re lacking"
   ]
  }
 ],
 "metadata": {
  "kernelspec": {
   "display_name": "Python 3",
   "language": "python",
   "name": "python3"
  },
  "language_info": {
   "codemirror_mode": {
    "name": "ipython",
    "version": 3
   },
   "file_extension": ".py",
   "mimetype": "text/x-python",
   "name": "python",
   "nbconvert_exporter": "python",
   "pygments_lexer": "ipython3",
   "version": "3.8.3"
  }
 },
 "nbformat": 4,
 "nbformat_minor": 4
}
