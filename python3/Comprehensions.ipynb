{
 "cells": [
  {
   "cell_type": "markdown",
   "metadata": {},
   "source": [
    "# 推导"
   ]
  },
  {
   "cell_type": "markdown",
   "metadata": {},
   "source": [
    "> 列表推导/字典推导/集合推导提供了一种紧凑的方法，对每一个元素应用某个函数，将其转换成另外一个列表/字典/集合"
   ]
  },
  {
   "cell_type": "markdown",
   "metadata": {},
   "source": [
    "## 列表推导"
   ]
  },
  {
   "cell_type": "code",
   "execution_count": 2,
   "metadata": {},
   "outputs": [
    {
     "data": {
      "text/plain": [
       "[2, 18, 4, 8]"
      ]
     },
     "execution_count": 2,
     "metadata": {},
     "output_type": "execute_result"
    }
   ],
   "source": [
    "a_list = [1, 9, 2, 4]\n",
    "[ele * 2 for ele in a_list]"
   ]
  },
  {
   "cell_type": "code",
   "execution_count": 4,
   "metadata": {},
   "outputs": [
    {
     "data": {
      "text/plain": [
       "[1, 9, 2, 4]"
      ]
     },
     "execution_count": 4,
     "metadata": {},
     "output_type": "execute_result"
    }
   ],
   "source": [
    "a_list"
   ]
  },
  {
   "cell_type": "code",
   "execution_count": 7,
   "metadata": {},
   "outputs": [
    {
     "data": {
      "text/plain": [
       "'/Users/ld/Desktop/umi-blank'"
      ]
     },
     "execution_count": 7,
     "metadata": {},
     "output_type": "execute_result"
    }
   ],
   "source": [
    "import os, glob\n",
    "os.chdir(os.path.join(os.path.expanduser('~'), 'Desktop', 'umi-blank'))\n",
    "os.getcwd()"
   ]
  },
  {
   "cell_type": "code",
   "execution_count": 8,
   "metadata": {},
   "outputs": [
    {
     "data": {
      "text/plain": [
       "['jsconfig.json',\n",
       " 'config',\n",
       " 'mock',\n",
       " 'jest.config.js',\n",
       " 'node_modules',\n",
       " 'tests',\n",
       " 'README.md',\n",
       " 'yarn.lock',\n",
       " 'public',\n",
       " 'package.json',\n",
       " 'tsconfig.json',\n",
       " 'src']"
      ]
     },
     "execution_count": 8,
     "metadata": {},
     "output_type": "execute_result"
    }
   ],
   "source": [
    "glob.glob('*')"
   ]
  },
  {
   "cell_type": "code",
   "execution_count": 9,
   "metadata": {},
   "outputs": [
    {
     "data": {
      "text/plain": [
       "['/Users/ld/Desktop/umi-blank/jsconfig.json',\n",
       " '/Users/ld/Desktop/umi-blank/config',\n",
       " '/Users/ld/Desktop/umi-blank/mock',\n",
       " '/Users/ld/Desktop/umi-blank/jest.config.js',\n",
       " '/Users/ld/Desktop/umi-blank/node_modules',\n",
       " '/Users/ld/Desktop/umi-blank/tests',\n",
       " '/Users/ld/Desktop/umi-blank/README.md',\n",
       " '/Users/ld/Desktop/umi-blank/yarn.lock',\n",
       " '/Users/ld/Desktop/umi-blank/public',\n",
       " '/Users/ld/Desktop/umi-blank/package.json',\n",
       " '/Users/ld/Desktop/umi-blank/tsconfig.json',\n",
       " '/Users/ld/Desktop/umi-blank/src']"
      ]
     },
     "execution_count": 9,
     "metadata": {},
     "output_type": "execute_result"
    }
   ],
   "source": [
    "[os.path.realpath(ele) for ele in glob.glob('*')]"
   ]
  },
  {
   "cell_type": "markdown",
   "metadata": {},
   "source": [
    "> 列表推导可以使用任何*Python*表达式"
   ]
  },
  {
   "cell_type": "code",
   "execution_count": 18,
   "metadata": {},
   "outputs": [
    {
     "data": {
      "text/plain": [
       "['jsconfig.json', 'package.json', 'tsconfig.json']"
      ]
     },
     "execution_count": 18,
     "metadata": {},
     "output_type": "execute_result"
    }
   ],
   "source": [
    "glob.glob('*.json')"
   ]
  },
  {
   "cell_type": "code",
   "execution_count": 19,
   "metadata": {},
   "outputs": [
    {
     "data": {
      "text/plain": [
       "['jsconfig.json', 'tsconfig.json']"
      ]
     },
     "execution_count": 19,
     "metadata": {},
     "output_type": "execute_result"
    }
   ],
   "source": [
    "[f for f in glob.glob('*.json') if os.stat(f).st_size < 1000]"
   ]
  },
  {
   "cell_type": "markdown",
   "metadata": {},
   "source": [
    "> 可以在尾部使用`if`来过滤列表"
   ]
  },
  {
   "cell_type": "code",
   "execution_count": 21,
   "metadata": {},
   "outputs": [
    {
     "data": {
      "text/plain": [
       "[(168, '/Users/ld/Desktop/umi-blank/jsconfig.json'),\n",
       " (4206, '/Users/ld/Desktop/umi-blank/package.json'),\n",
       " (696, '/Users/ld/Desktop/umi-blank/tsconfig.json')]"
      ]
     },
     "execution_count": 21,
     "metadata": {},
     "output_type": "execute_result"
    }
   ],
   "source": [
    "[(os.stat(f).st_size, os.path.realpath(f)) for f in glob.glob('*.json')]"
   ]
  },
  {
   "cell_type": "markdown",
   "metadata": {},
   "source": [
    "## 字典推导"
   ]
  },
  {
   "cell_type": "code",
   "execution_count": 22,
   "metadata": {},
   "outputs": [],
   "source": [
    "import os, glob"
   ]
  },
  {
   "cell_type": "code",
   "execution_count": 23,
   "metadata": {},
   "outputs": [
    {
     "data": {
      "text/plain": [
       "'/Users/ld/Desktop/umi-blank'"
      ]
     },
     "execution_count": 23,
     "metadata": {},
     "output_type": "execute_result"
    }
   ],
   "source": [
    "os.chdir(os.path.join(os.path.expanduser('~'), 'Desktop', 'umi-blank'))\n",
    "os.getcwd()"
   ]
  },
  {
   "cell_type": "code",
   "execution_count": 24,
   "metadata": {},
   "outputs": [
    {
     "data": {
      "text/plain": [
       "['jsconfig.json',\n",
       " 'config',\n",
       " 'mock',\n",
       " 'jest.config.js',\n",
       " 'node_modules',\n",
       " 'tests',\n",
       " 'README.md',\n",
       " 'yarn.lock',\n",
       " 'public',\n",
       " 'package.json',\n",
       " 'tsconfig.json',\n",
       " 'src']"
      ]
     },
     "execution_count": 24,
     "metadata": {},
     "output_type": "execute_result"
    }
   ],
   "source": [
    "glob.glob('*')"
   ]
  },
  {
   "cell_type": "code",
   "execution_count": 26,
   "metadata": {},
   "outputs": [],
   "source": [
    "json_files_metadata_dict = {f:os.stat(f) for f in glob.glob('*.json')}"
   ]
  },
  {
   "cell_type": "code",
   "execution_count": 27,
   "metadata": {},
   "outputs": [
    {
     "data": {
      "text/plain": [
       "4206"
      ]
     },
     "execution_count": 27,
     "metadata": {},
     "output_type": "execute_result"
    }
   ],
   "source": [
    "json_files_metadata_dict['package.json'].st_size"
   ]
  },
  {
   "cell_type": "markdown",
   "metadata": {},
   "source": [
    "> 字典推导使用大括号，每个元素不是使用表达式，而是包含两个由冒号分隔的表达式"
   ]
  },
  {
   "cell_type": "code",
   "execution_count": 30,
   "metadata": {},
   "outputs": [
    {
     "data": {
      "text/plain": [
       "{'jsconfig.json': os.stat_result(st_mode=33188, st_ino=1414240, st_dev=16777228, st_nlink=1, st_uid=501, st_gid=20, st_size=168, st_atime=1590027441, st_mtime=1588913361, st_ctime=1590029041),\n",
       " 'tsconfig.json': os.stat_result(st_mode=33188, st_ino=1414862, st_dev=16777228, st_nlink=1, st_uid=501, st_gid=20, st_size=696, st_atime=1590027441, st_mtime=1588913362, st_ctime=1590029041)}"
      ]
     },
     "execution_count": 30,
     "metadata": {},
     "output_type": "execute_result"
    }
   ],
   "source": [
    "json_files_metadata_dict = {f:os.stat(f) for f in glob.glob('*.json') if os.stat(f).st_size < 1000}\n",
    "json_files_metadata_dict"
   ]
  },
  {
   "cell_type": "markdown",
   "metadata": {},
   "source": [
    "> 字典推导里可以使用`if`子句"
   ]
  },
  {
   "cell_type": "code",
   "execution_count": 31,
   "metadata": {},
   "outputs": [
    {
     "data": {
      "text/plain": [
       "{'jsconfig.json': os.stat_result(st_mode=33188, st_ino=1414240, st_dev=16777228, st_nlink=1, st_uid=501, st_gid=20, st_size=168, st_atime=1590027441, st_mtime=1588913361, st_ctime=1590029041),\n",
       " 'package.json': os.stat_result(st_mode=33188, st_ino=1414246, st_dev=16777228, st_nlink=1, st_uid=501, st_gid=20, st_size=4206, st_atime=1591868358, st_mtime=1591868358, st_ctime=1591868358),\n",
       " 'tsconfig.json': os.stat_result(st_mode=33188, st_ino=1414862, st_dev=16777228, st_nlink=1, st_uid=501, st_gid=20, st_size=696, st_atime=1590027441, st_mtime=1588913362, st_ctime=1590029041)}"
      ]
     },
     "execution_count": 31,
     "metadata": {},
     "output_type": "execute_result"
    }
   ],
   "source": [
    "json_files_metadata_dict = {f:os.stat(f) for f in glob.glob('*.json')}\n",
    "json_files_metadata_dict"
   ]
  },
  {
   "cell_type": "code",
   "execution_count": 33,
   "metadata": {},
   "outputs": [
    {
     "data": {
      "text/plain": [
       "{'jsconfig': 168, 'package': 4206, 'tsconfig': 696}"
      ]
     },
     "execution_count": 33,
     "metadata": {},
     "output_type": "execute_result"
    }
   ],
   "source": [
    "json_files_metadata_dict_subset = {os.path.splitext(f)[0]:meta.st_size for f, meta in json_files_metadata_dict.items()}\n",
    "json_files_metadata_dict_subset"
   ]
  },
  {
   "cell_type": "code",
   "execution_count": 34,
   "metadata": {},
   "outputs": [
    {
     "data": {
      "text/plain": [
       "dict_keys(['jsconfig', 'package', 'tsconfig'])"
      ]
     },
     "execution_count": 34,
     "metadata": {},
     "output_type": "execute_result"
    }
   ],
   "source": [
    "json_files_metadata_dict_subset.keys()"
   ]
  },
  {
   "cell_type": "code",
   "execution_count": 35,
   "metadata": {},
   "outputs": [
    {
     "data": {
      "text/plain": [
       "168"
      ]
     },
     "execution_count": 35,
     "metadata": {},
     "output_type": "execute_result"
    }
   ],
   "source": [
    "json_files_metadata_dict_subset['jsconfig']"
   ]
  },
  {
   "cell_type": "code",
   "execution_count": null,
   "metadata": {},
   "outputs": [],
   "source": []
  },
  {
   "cell_type": "code",
   "execution_count": 38,
   "metadata": {},
   "outputs": [
    {
     "data": {
      "text/plain": [
       "{1: 'a', 2: 'b', 3: 'd'}"
      ]
     },
     "execution_count": 38,
     "metadata": {},
     "output_type": "execute_result"
    }
   ],
   "source": [
    "a_dict = {'a':1, 'b':2, 'c':3, 'd':3}\n",
    "{a_dict[key]:key for key in a_dict.keys()}"
   ]
  },
  {
   "cell_type": "markdown",
   "metadata": {},
   "source": [
    "## 集合推导"
   ]
  },
  {
   "cell_type": "code",
   "execution_count": 39,
   "metadata": {},
   "outputs": [],
   "source": [
    "a_set = set(range(10))"
   ]
  },
  {
   "cell_type": "code",
   "execution_count": 40,
   "metadata": {},
   "outputs": [
    {
     "data": {
      "text/plain": [
       "{0, 1, 2, 3, 4, 5, 6, 7, 8, 9}"
      ]
     },
     "execution_count": 40,
     "metadata": {},
     "output_type": "execute_result"
    }
   ],
   "source": [
    "a_set"
   ]
  },
  {
   "cell_type": "code",
   "execution_count": 41,
   "metadata": {},
   "outputs": [
    {
     "data": {
      "text/plain": [
       "{0, 1, 4, 9, 16, 25, 36, 49, 64, 81}"
      ]
     },
     "execution_count": 41,
     "metadata": {},
     "output_type": "execute_result"
    }
   ],
   "source": [
    "{x ** 2 for x in a_set}"
   ]
  },
  {
   "cell_type": "code",
   "execution_count": 42,
   "metadata": {},
   "outputs": [
    {
     "data": {
      "text/plain": [
       "{2, 4, 6, 8}"
      ]
     },
     "execution_count": 42,
     "metadata": {},
     "output_type": "execute_result"
    }
   ],
   "source": [
    "{x*2 for x in range(1,5)}"
   ]
  },
  {
   "cell_type": "markdown",
   "metadata": {},
   "source": [
    "> 集合推导使用大括号"
   ]
  }
 ],
 "metadata": {
  "kernelspec": {
   "display_name": "Python 3",
   "language": "python",
   "name": "python3"
  },
  "language_info": {
   "codemirror_mode": {
    "name": "ipython",
    "version": 3
   },
   "file_extension": ".py",
   "mimetype": "text/x-python",
   "name": "python",
   "nbconvert_exporter": "python",
   "pygments_lexer": "ipython3",
   "version": "3.7.6"
  }
 },
 "nbformat": 4,
 "nbformat_minor": 4
}
