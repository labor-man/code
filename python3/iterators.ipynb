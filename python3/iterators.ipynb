{
 "cells": [
  {
   "cell_type": "markdown",
   "metadata": {},
   "source": [
    "1. 迭代器是定义了`__iter __()`方法的类.\n",
    "2. `__iter __()`方法需要返回实现了`__next __()`方法的对象\n",
    "3. `iter(f)`会调用`f.__iter__`\n",
    "4. `next(f)`会调用`f.__next__`\n",
    "5. `StopIteration` 标记迭代器耗尽"
   ]
  },
  {
   "cell_type": "markdown",
   "metadata": {},
   "source": [
    "**一道经典难题**"
   ]
  },
  {
   "cell_type": "code",
   "execution_count": 17,
   "metadata": {},
   "outputs": [],
   "source": [
    "import re\n",
    "import itertools\n",
    "\n",
    "def solve(puzzle):\n",
    "    words = re.findall('[A-Z]+', puzzle.upper())\n",
    "    unique_characters = set(''.join(words))\n",
    "    assert len(unique_characters) <= 10, 'Too many letters'\n",
    "    first_letters = {word[0] for word in words}\n",
    "    n = len(first_letters)\n",
    "    sorted_characters = ''.join(first_letters) + \\\n",
    "        ''.join(unique_characters - first_letters)\n",
    "    characters = tuple(ord(c) for c in sorted_characters)\n",
    "    digits = tuple(ord(c) for c in '0123456789')\n",
    "    zero = digits[0]\n",
    "    for guess in itertools.permutations(digits, len(characters)):\n",
    "        if zero not in guess[:n]:\n",
    "            equation = puzzle.translate(dict(zip(characters, guess)))\n",
    "            if eval(equation):\n",
    "                return equation"
   ]
  },
  {
   "cell_type": "code",
   "execution_count": 18,
   "metadata": {},
   "outputs": [
    {
     "data": {
      "text/plain": [
       "'9567 + 1085 == 10652'"
      ]
     },
     "execution_count": 18,
     "metadata": {},
     "output_type": "execute_result"
    }
   ],
   "source": [
    "solve('SEND + MORE == MONEY')"
   ]
  }
 ],
 "metadata": {
  "kernelspec": {
   "display_name": "Python 3",
   "language": "python",
   "name": "python3"
  },
  "language_info": {
   "codemirror_mode": {
    "name": "ipython",
    "version": 3
   },
   "file_extension": ".py",
   "mimetype": "text/x-python",
   "name": "python",
   "nbconvert_exporter": "python",
   "pygments_lexer": "ipython3",
   "version": "3.8.3"
  }
 },
 "nbformat": 4,
 "nbformat_minor": 4
}
