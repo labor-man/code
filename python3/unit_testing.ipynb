{
 "cells": [
  {
   "cell_type": "markdown",
   "metadata": {},
   "source": [
    "The Pythonic way to halt and catch fire is to raise an exception."
   ]
  },
  {
   "cell_type": "markdown",
   "metadata": {},
   "source": [
    "编写失败的测试，然后编码直到通过"
   ]
  },
  {
   "cell_type": "code",
   "execution_count": null,
   "metadata": {},
   "outputs": [],
   "source": [
    "每个测试都是孤岛"
   ]
  },
  {
   "cell_type": "code",
   "execution_count": null,
   "metadata": {},
   "outputs": [],
   "source": [
    "单元测试可以使您有信心进行大规模重构"
   ]
  },
  {
   "cell_type": "markdown",
   "metadata": {},
   "source": [
    "- 设计明确的、自动化、独立的测试用例\n",
    "- 在写代码之前先写测试用例\n",
    "- 编写测试良好输入和正确输出的测试用例\n",
    "- 编写测试错误输入和正确响应的测试用例\n",
    "- 编写和更新测试用例以反映新需求\n",
    "- 毫不留情地进行重构，以提高性能，可伸缩性，可读性，可维护性或其他您缺乏的功能"
   ]
  }
 ],
 "metadata": {
  "kernelspec": {
   "display_name": "Python 3",
   "language": "python",
   "name": "python3"
  },
  "language_info": {
   "codemirror_mode": {
    "name": "ipython",
    "version": 3
   },
   "file_extension": ".py",
   "mimetype": "text/x-python",
   "name": "python",
   "nbconvert_exporter": "python",
   "pygments_lexer": "ipython3",
   "version": "3.8.3"
  }
 },
 "nbformat": 4,
 "nbformat_minor": 4
}
