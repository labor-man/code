{
 "cells": [
  {
   "cell_type": "markdown",
   "metadata": {},
   "source": [
    "> **序列化** 在计算机科学的数据处理中，是指将数据结构或对象状态转换成可取用格式，以留待后续在相同或另一台计算机环境中，能恢复原先状态的过程。依照序列化格式重新获取字节的结果时，可以利用它来产生与原始对象相同语义的副本。对于许多对象，像是使用大量引用的复杂对象，这种序列化重建的过程并不容易。"
   ]
  },
  {
   "cell_type": "markdown",
   "metadata": {},
   "source": [
    "# Pickle"
   ]
  },
  {
   "cell_type": "markdown",
   "metadata": {},
   "source": [
    "> The data format used by the `pickle` module is *Python-specific*."
   ]
  },
  {
   "cell_type": "markdown",
   "metadata": {},
   "source": [
    "## Pickling With A File"
   ]
  },
  {
   "cell_type": "markdown",
   "metadata": {},
   "source": [
    "**Saving Data TO A Pickle File**"
   ]
  },
  {
   "cell_type": "code",
   "execution_count": 1,
   "metadata": {},
   "outputs": [],
   "source": [
    "# shell 1\n",
    "entry = {}\n",
    "entry['title'] = 'Dive into history, 2009 edition'\n",
    "entry['article_link'] = 'http://diveintomark.org/archives/2009/03/27/dive-into-history-2009-edition'\n",
    "entry['comments_link'] = None\n",
    "entry['internal_id'] = b'\\xDE\\xD5\\xB4\\xF8'\n",
    "entry['tags'] = ('diveintopython', 'docbook', 'html')\n",
    "entry['published'] = True\n",
    "import time\n",
    "entry['published_date'] = time.strptime('Fri Mar 27 22:20:42 2009')\n",
    "\n",
    "import pickle\n",
    "with open('entry.pickle', 'wb') as f:\n",
    "    pickle.dump(entry, f)"
   ]
  },
  {
   "cell_type": "markdown",
   "metadata": {},
   "source": [
    "**Loading Data from a Pickle File**"
   ]
  },
  {
   "cell_type": "code",
   "execution_count": 2,
   "metadata": {},
   "outputs": [
    {
     "data": {
      "text/plain": [
       "{'title': 'Dive into history, 2009 edition',\n",
       " 'article_link': 'http://diveintomark.org/archives/2009/03/27/dive-into-history-2009-edition',\n",
       " 'comments_link': None,\n",
       " 'internal_id': b'\\xde\\xd5\\xb4\\xf8',\n",
       " 'tags': ('diveintopython', 'docbook', 'html'),\n",
       " 'published': True,\n",
       " 'published_date': time.struct_time(tm_year=2009, tm_mon=3, tm_mday=27, tm_hour=22, tm_min=20, tm_sec=42, tm_wday=4, tm_yday=86, tm_isdst=-1)}"
      ]
     },
     "execution_count": 2,
     "metadata": {},
     "output_type": "execute_result"
    }
   ],
   "source": [
    "# shell 2\n",
    "import pickle\n",
    "with open('entry.pickle', 'rb') as f:\n",
    "    entry = pickle.load(f)\n",
    "    \n",
    "entry"
   ]
  },
  {
   "cell_type": "markdown",
   "metadata": {},
   "source": [
    "> `pickle.dump()` use a stream object and performs serialization, `pickle.load()` use a stream object and performs deserialization."
   ]
  },
  {
   "cell_type": "markdown",
   "metadata": {},
   "source": [
    "## Pickling Without a File"
   ]
  },
  {
   "cell_type": "code",
   "execution_count": 3,
   "metadata": {},
   "outputs": [
    {
     "data": {
      "text/plain": [
       "b'\\x80\\x04\\x95J\\x01\\x00\\x00\\x00\\x00\\x00\\x00}\\x94(\\x8c\\x05title\\x94\\x8c\\x1fDive into history, 2009 edition\\x94\\x8c\\x0carticle_link\\x94\\x8cJhttp://diveintomark.org/archives/2009/03/27/dive-into-history-2009-edition\\x94\\x8c\\rcomments_link\\x94N\\x8c\\x0binternal_id\\x94C\\x04\\xde\\xd5\\xb4\\xf8\\x94\\x8c\\x04tags\\x94\\x8c\\x0ediveintopython\\x94\\x8c\\x07docbook\\x94\\x8c\\x04html\\x94\\x87\\x94\\x8c\\tpublished\\x94\\x88\\x8c\\x0epublished_date\\x94\\x8c\\x04time\\x94\\x8c\\x0bstruct_time\\x94\\x93\\x94(M\\xd9\\x07K\\x03K\\x1bK\\x16K\\x14K*K\\x04KVJ\\xff\\xff\\xff\\xfft\\x94}\\x94(\\x8c\\x07tm_zone\\x94N\\x8c\\ttm_gmtoff\\x94Nu\\x86\\x94R\\x94u.'"
      ]
     },
     "execution_count": 3,
     "metadata": {},
     "output_type": "execute_result"
    }
   ],
   "source": [
    "b = pickle.dumps(entry)\n",
    "b"
   ]
  },
  {
   "cell_type": "code",
   "execution_count": 4,
   "metadata": {},
   "outputs": [
    {
     "data": {
      "text/plain": [
       "{'title': 'Dive into history, 2009 edition',\n",
       " 'article_link': 'http://diveintomark.org/archives/2009/03/27/dive-into-history-2009-edition',\n",
       " 'comments_link': None,\n",
       " 'internal_id': b'\\xde\\xd5\\xb4\\xf8',\n",
       " 'tags': ('diveintopython', 'docbook', 'html'),\n",
       " 'published': True,\n",
       " 'published_date': time.struct_time(tm_year=2009, tm_mon=3, tm_mday=27, tm_hour=22, tm_min=20, tm_sec=42, tm_wday=4, tm_yday=86, tm_isdst=-1)}"
      ]
     },
     "execution_count": 4,
     "metadata": {},
     "output_type": "execute_result"
    }
   ],
   "source": [
    "entry3 = pickle.loads(b)\n",
    "entry3"
   ]
  },
  {
   "cell_type": "markdown",
   "metadata": {},
   "source": [
    "> `pickle.dumps()` performs serialization, `pickle.loads()` performs deserialization."
   ]
  },
  {
   "cell_type": "markdown",
   "metadata": {},
   "source": [
    "# JSON"
   ]
  },
  {
   "cell_type": "markdown",
   "metadata": {},
   "source": [
    "1. *JSON* is text-based.\n",
    "2. *JSON* allow arbitrary amounts of whitespace between values."
   ]
  },
  {
   "cell_type": "markdown",
   "metadata": {},
   "source": [
    "## Saving Data to a json File"
   ]
  },
  {
   "cell_type": "code",
   "execution_count": null,
   "metadata": {},
   "outputs": [],
   "source": [
    "# shell 1\n",
    "basic_entry = {}\n",
    "basic_entry['id'] = 256\n",
    "basic_entry['title'] = 'Dive into history, 2009 edition'\n",
    "basic_entry['tags'] = ('diveintopython', 'docbook', 'html')\n",
    "basic_entry['published'] = True\n",
    "basic_entry['comments_link'] = None\n",
    "import json\n",
    "with open('basic.json', mode='w', encoding='utf-8') as f:\n",
    "    json.dump(basic_entry, f)   "
   ]
  },
  {
   "cell_type": "markdown",
   "metadata": {},
   "source": [
    "## Mapping of Python Datatypes to json"
   ]
  },
  {
   "cell_type": "markdown",
   "metadata": {},
   "source": [
    "| JSON  | Python 3  |  Notes |\n",
    "| :----:  |  :----:     | :----:  |\n",
    "| object |  dictionary    |      |\n",
    "| array |  list    |      |\n",
    "| string |  string    |      |\n",
    "| integer |  integer    |      |\n",
    "| real number |  float    |      |\n",
    "| true |  True    |*      |\n",
    "| false |  False    |*      |\n",
    "| null |  None    |*      |\n",
    "* All json values are case-sensitive.\t"
   ]
  },
  {
   "cell_type": "code",
   "execution_count": 6,
   "metadata": {},
   "outputs": [
    {
     "data": {
      "text/plain": [
       "\"{'a': 1}\""
      ]
     },
     "execution_count": 6,
     "metadata": {},
     "output_type": "execute_result"
    }
   ],
   "source": [
    "a  = {'a':1}\n",
    "repr(a)\n"
   ]
  },
  {
   "cell_type": "markdown",
   "metadata": {},
   "source": [
    "## Serializing Datatypes Unsupported by json"
   ]
  },
  {
   "cell_type": "markdown",
   "metadata": {},
   "source": [
    ">  Define your own “mini-serialization format.”, doing the converting-to-a-supported-datatype part."
   ]
  },
  {
   "cell_type": "code",
   "execution_count": 29,
   "metadata": {},
   "outputs": [
    {
     "data": {
      "text/plain": [
       "{'comments_link': None,\n",
       " 'internal_id': b'\\xde\\xd5\\xb4\\xf8',\n",
       " 'title': 'Dive into history, 2009 edition',\n",
       " 'tags': ('diveintopython', 'docbook', 'html'),\n",
       " 'article_link': 'http://diveintomark.org/archives/2009/03/27/dive-into-history-2009-edition',\n",
       " 'published': True}"
      ]
     },
     "execution_count": 29,
     "metadata": {},
     "output_type": "execute_result"
    }
   ],
   "source": [
    "entry = {'comments_link': None,\n",
    " 'internal_id': b'\\xDE\\xD5\\xB4\\xF8',\n",
    " 'title': 'Dive into history, 2009 edition',\n",
    " 'tags': ('diveintopython', 'docbook', 'html'),\n",
    " 'article_link': 'http://diveintomark.org/archives/2009/03/27/dive-into-history-2009-edition',\n",
    " 'published': True}\n",
    "entry"
   ]
  },
  {
   "cell_type": "code",
   "execution_count": 30,
   "metadata": {},
   "outputs": [],
   "source": [
    "\n",
    "#shell 1\n",
    "import json\n",
    "def to_json(python_object):\n",
    "    if isinstance(python_object, bytes):\n",
    "        return {'__class__': 'bytes',\n",
    "                '__value__': list(python_object)}\n",
    "    raise TypeError(repr(python_object) + ' is not JSON serializable')\n",
    "    \n",
    "with open('entry.json', 'w', encoding='utf-8') as f:\n",
    "    json.dump(entry, f, default=to_json)"
   ]
  },
  {
   "cell_type": "markdown",
   "metadata": {},
   "source": [
    "## Loading Data from a json File"
   ]
  },
  {
   "cell_type": "code",
   "execution_count": 31,
   "metadata": {},
   "outputs": [
    {
     "data": {
      "text/plain": [
       "{'comments_link': None,\n",
       " 'internal_id': b'\\xde\\xd5\\xb4\\xf8',\n",
       " 'title': 'Dive into history, 2009 edition',\n",
       " 'tags': ['diveintopython', 'docbook', 'html'],\n",
       " 'article_link': 'http://diveintomark.org/archives/2009/03/27/dive-into-history-2009-edition',\n",
       " 'published': True}"
      ]
     },
     "execution_count": 31,
     "metadata": {},
     "output_type": "execute_result"
    }
   ],
   "source": [
    "# shell 2\n",
    "entry = None\n",
    "def from_json(json_object):                             \n",
    "    if '__class__' in json_object:                \n",
    "        if json_object['__class__'] == 'bytes':\n",
    "            return bytes(json_object['__value__'])\n",
    "    return json_object\n",
    "\n",
    "with open('entry.json', 'r', encoding='utf-8') as f:\n",
    "    entry = json.load(f, object_hook=from_json)\n",
    "    \n",
    "entry"
   ]
  },
  {
   "cell_type": "markdown",
   "metadata": {},
   "source": [
    ">  the json module silently converts both tuples and lists into json arrays during serialization. "
   ]
  }
 ],
 "metadata": {
  "kernelspec": {
   "display_name": "Python 3",
   "language": "python",
   "name": "python3"
  },
  "language_info": {
   "codemirror_mode": {
    "name": "ipython",
    "version": 3
   },
   "file_extension": ".py",
   "mimetype": "text/x-python",
   "name": "python",
   "nbconvert_exporter": "python",
   "pygments_lexer": "ipython3",
   "version": "3.8.3"
  }
 },
 "nbformat": 4,
 "nbformat_minor": 4
}
