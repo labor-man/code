{
 "cells": [
  {
   "cell_type": "markdown",
   "metadata": {},
   "source": [
    "1. 描述符使我们可以更好地控制属性访问\n",
    "2. 一个描述器是一个包含 “绑定行为” 的对象，对其属性的访问被描述器协议中定义的方法覆盖。如果某个对象中定义了这些方法中的任意一个，那么这个对象就可以被称为一个描述器\n",
    "3. 属性访问的默认行为是从一个对象的字典中获取、设置或删除属性。例如，a.x 的查找顺序会从 a.__dict__['x'] 开始，然后是 type(a).__dict__['x']，接下来依次查找 type(a) 的基类，不包括元类。 如果找到的值是定义了某个描述器方法的对象，则 Python 可能会重载默认行为并转而发起调用描述器方法。这具体发生在优先级链的哪个环节则要根据所定义的描述器方法及其被调用的方式来决定"
   ]
  },
  {
   "cell_type": "markdown",
   "metadata": {},
   "source": [
    "**描述器协议**"
   ]
  },
  {
   "cell_type": "code",
   "execution_count": null,
   "metadata": {},
   "outputs": [],
   "source": [
    "# 描述器协议 https://docs.python.org/zh-cn/3/howto/descriptor.html\n",
    "# descr.__get__(self, obj, type=None) -> value\n",
    "# descr.__set__(self, obj, value) -> None\n",
    "# descr.__delete__(self, obj) -> None"
   ]
  },
  {
   "cell_type": "markdown",
   "metadata": {},
   "source": [
    "**使用`property()`创建描述器**"
   ]
  },
  {
   "cell_type": "code",
   "execution_count": 16,
   "metadata": {},
   "outputs": [],
   "source": [
    "class Square(object):\n",
    "  def __init__(self, side):\n",
    "      self.side = side\n",
    "\n",
    "  def fget(self):\n",
    "      return self.side ** 2\n",
    "\n",
    "  def fset(self, v):\n",
    "      print('can not set!')\n",
    "\n",
    "  def fdel(self):\n",
    "      print('can not del!')\n",
    "\n",
    "  area = property(fget, fset, fdel, doc='this is the area')\n",
    "\n",
    "square = Square(10)"
   ]
  },
  {
   "cell_type": "code",
   "execution_count": 17,
   "metadata": {},
   "outputs": [
    {
     "data": {
      "text/plain": [
       "100"
      ]
     },
     "execution_count": 17,
     "metadata": {},
     "output_type": "execute_result"
    }
   ],
   "source": [
    "square.area"
   ]
  },
  {
   "cell_type": "code",
   "execution_count": 18,
   "metadata": {},
   "outputs": [
    {
     "name": "stdout",
     "output_type": "stream",
     "text": [
      "can not set!\n"
     ]
    }
   ],
   "source": [
    "square.area = 50"
   ]
  },
  {
   "cell_type": "code",
   "execution_count": 19,
   "metadata": {},
   "outputs": [
    {
     "data": {
      "text/plain": [
       "100"
      ]
     },
     "execution_count": 19,
     "metadata": {},
     "output_type": "execute_result"
    }
   ],
   "source": [
    "square.area"
   ]
  },
  {
   "cell_type": "code",
   "execution_count": 20,
   "metadata": {},
   "outputs": [
    {
     "name": "stdout",
     "output_type": "stream",
     "text": [
      "can not del!\n"
     ]
    }
   ],
   "source": [
    "del(squire.area)"
   ]
  },
  {
   "cell_type": "markdown",
   "metadata": {},
   "source": [
    "使用装饰器`@property`创建描述器"
   ]
  },
  {
   "cell_type": "code",
   "execution_count": 23,
   "metadata": {},
   "outputs": [
    {
     "name": "stdout",
     "output_type": "stream",
     "text": [
      "100\n",
      "can not set!\n",
      "100\n",
      "can not del!\n"
     ]
    }
   ],
   "source": [
    "class Square(object):\n",
    "  def __init__(self, side):\n",
    "      self.side = side\n",
    "        \n",
    "  @property\n",
    "  def area(self):\n",
    "      return self.side ** 2\n",
    "  # ?\n",
    "  @area.setter\n",
    "  def area(self, v):\n",
    "      print('can not set!')\n",
    "\n",
    "  # ?\n",
    "  @area.deleter\n",
    "  def area(self):\n",
    "      print('can not del!')\n",
    "    \n",
    "square = Square(10)"
   ]
  },
  {
   "cell_type": "code",
   "execution_count": 25,
   "metadata": {},
   "outputs": [
    {
     "name": "stdout",
     "output_type": "stream",
     "text": [
      "100\n"
     ]
    }
   ],
   "source": [
    "print(square.area)"
   ]
  },
  {
   "cell_type": "code",
   "execution_count": 26,
   "metadata": {},
   "outputs": [
    {
     "name": "stdout",
     "output_type": "stream",
     "text": [
      "can not set!\n"
     ]
    }
   ],
   "source": [
    "square.area = 50"
   ]
  },
  {
   "cell_type": "code",
   "execution_count": 27,
   "metadata": {},
   "outputs": [
    {
     "name": "stdout",
     "output_type": "stream",
     "text": [
      "100\n"
     ]
    }
   ],
   "source": [
    "print(square.area)"
   ]
  },
  {
   "cell_type": "code",
   "execution_count": 28,
   "metadata": {},
   "outputs": [
    {
     "name": "stdout",
     "output_type": "stream",
     "text": [
      "can not del!\n"
     ]
    }
   ],
   "source": [
    "del(square.area)"
   ]
  },
  {
   "cell_type": "code",
   "execution_count": 33,
   "metadata": {},
   "outputs": [
    {
     "name": "stdout",
     "output_type": "stream",
     "text": [
      "100\n",
      "can not set!\n",
      "100\n",
      "can not del!\n"
     ]
    }
   ],
   "source": [
    "def my_decorator(f):\n",
    "  names_dict = f()\n",
    "  return property(**names_dict)\n",
    "\n",
    "class Squire(object):\n",
    "  def __init__(self, side):\n",
    "      self.side = side\n",
    "\n",
    "  @my_decorator\n",
    "  def area():\n",
    "      def fget(self):\n",
    "          return self.side ** 2\n",
    "\n",
    "      def fset(self, v):\n",
    "          print('can not set!')\n",
    "\n",
    "      def fdel(self):\n",
    "          print('can not del!')\n",
    "\n",
    "      doc = 'this is doc'\n",
    "\n",
    "      return locals()\n",
    "\n",
    "\n",
    "squire = Squire(10)\n",
    "\n",
    "print(squire.area)\n",
    "\n",
    "squire.area = 50\n",
    "\n",
    "print(squire.area)\n",
    "\n",
    "del(squire.area)\n",
    "\n",
    "# @propery is good for performing certain operations before get, set and delete operation. But, we need to implement it for all the functions separately and code becomes repetitive for larger number of methods. In such cases, descriptors can be useful."
   ]
  }
 ],
 "metadata": {
  "kernelspec": {
   "display_name": "Python 3",
   "language": "python",
   "name": "python3"
  },
  "language_info": {
   "codemirror_mode": {
    "name": "ipython",
    "version": 3
   },
   "file_extension": ".py",
   "mimetype": "text/x-python",
   "name": "python",
   "nbconvert_exporter": "python",
   "pygments_lexer": "ipython3",
   "version": "3.8.3"
  }
 },
 "nbformat": 4,
 "nbformat_minor": 4
}
