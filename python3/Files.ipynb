{
 "cells": [
  {
   "cell_type": "markdown",
   "metadata": {},
   "source": [
    "**Reading From Text Files**"
   ]
  },
  {
   "cell_type": "code",
   "execution_count": null,
   "metadata": {},
   "outputs": [],
   "source": [
    "a_file = open('examples/chinese.txt', encoding='utf-8')"
   ]
  },
  {
   "cell_type": "markdown",
   "metadata": {},
   "source": [
    "> Bytes are bytes; characters are an abstraction."
   ]
  },
  {
   "cell_type": "markdown",
   "metadata": {},
   "source": [
    "> The default encoding is platform-dependent."
   ]
  },
  {
   "cell_type": "markdown",
   "metadata": {},
   "source": [
    "> Always specify an encoding parameter when you open a file."
   ]
  },
  {
   "cell_type": "markdown",
   "metadata": {},
   "source": [
    "*Closing Files Automatically*"
   ]
  },
  {
   "cell_type": "code",
   "execution_count": null,
   "metadata": {},
   "outputs": [],
   "source": [
    "with open('examples/chinese.txt', encoding='utf-8') as a_file:\n",
    "    a_file.seek(17)\n",
    "    a_character = a_file.read(1)\n",
    "    print(a_character）"
   ]
  },
  {
   "cell_type": "markdown",
   "metadata": {},
   "source": [
    "> try..finally is good. with is better."
   ]
  },
  {
   "cell_type": "markdown",
   "metadata": {},
   "source": [
    "**Writing to Text Files**"
   ]
  },
  {
   "cell_type": "markdown",
   "metadata": {},
   "source": [
    "> Just open a file and start writing."
   ]
  },
  {
   "cell_type": "markdown",
   "metadata": {},
   "source": [
    "> *append* or *write*"
   ]
  },
  {
   "cell_type": "markdown",
   "metadata": {},
   "source": [
    "**Binary Files**"
   ]
  },
  {
   "cell_type": "code",
   "execution_count": null,
   "metadata": {},
   "outputs": [],
   "source": [
    "an_image = open('examples/beauregard.jpg', mode='rb')"
   ]
  },
  {
   "cell_type": "markdown",
   "metadata": {},
   "source": [
    "**Stream Objects From Non-File Sources**"
   ]
  },
  {
   "cell_type": "code",
   "execution_count": 16,
   "metadata": {},
   "outputs": [
    {
     "data": {
      "text/plain": [
       "'PapayaWhip is \\nthe new black.'"
      ]
     },
     "execution_count": 16,
     "metadata": {},
     "output_type": "execute_result"
    }
   ],
   "source": [
    "a_string = '''PapayaWhip is the new black.'''\n",
    "import io\n",
    "a_file = io.StringIO(a_string)\n",
    "a_file.read()"
   ]
  },
  {
   "cell_type": "markdown",
   "metadata": {},
   "source": [
    "**Handling Compressed Files**"
   ]
  },
  {
   "cell_type": "markdown",
   "metadata": {},
   "source": [
    "> You should always open gzipped files in binary mode."
   ]
  },
  {
   "cell_type": "code",
   "execution_count": 17,
   "metadata": {},
   "outputs": [],
   "source": [
    "import gzip\n",
    "with gzip.open('temp gzip file.txt.gz', mode='wb') as z_file:\n",
    "    z_file.write(\"I'm testing python gzip module\".encode('utf-8'))"
   ]
  },
  {
   "cell_type": "markdown",
   "metadata": {},
   "source": [
    "**Standard Input, Output, and Error**"
   ]
  },
  {
   "cell_type": "markdown",
   "metadata": {},
   "source": [
    "> Standard output and standard error (commonly abbreviated stdout and stderr) are pipes that are built into every unix-like system, including Mac OS X and Linux. When you call the print() function, the thing you’re printing is sent to the stdout pipe. When your program crashes and prints out a traceback, it goes to the stderr pipe. By default, both of these pipes are just connected to the terminal window where you are working; when your program prints something, you see the output in your terminal window, and when a program crashes, you see the traceback in your terminal window too. In the graphical Python Shell, the stdout and stderr pipes default to your “Interactive Window”."
   ]
  },
  {
   "cell_type": "code",
   "execution_count": 19,
   "metadata": {},
   "outputs": [
    {
     "name": "stdout",
     "output_type": "stream",
     "text": [
      "python\n",
      "python\n",
      "python\n"
     ]
    }
   ],
   "source": [
    "for i in range(3):\n",
    "    print('python')"
   ]
  },
  {
   "cell_type": "code",
   "execution_count": 21,
   "metadata": {},
   "outputs": [
    {
     "name": "stdout",
     "output_type": "stream",
     "text": [
      "pythonpythonpython"
     ]
    }
   ],
   "source": [
    "import sys\n",
    "for i in range(3):\n",
    "    sys.stdout.write('python')"
   ]
  },
  {
   "cell_type": "code",
   "execution_count": 22,
   "metadata": {},
   "outputs": [
    {
     "name": "stderr",
     "output_type": "stream",
     "text": [
      "pythonpythonpython"
     ]
    }
   ],
   "source": [
    "import sys\n",
    "for i in range(3):\n",
    "    sys.stderr.write('python')"
   ]
  },
  {
   "cell_type": "markdown",
   "metadata": {},
   "source": [
    "> `sys.stdout` and `sys.stderr` are stream objects, but they are *write-only*."
   ]
  },
  {
   "cell_type": "markdown",
   "metadata": {},
   "source": [
    "> `print()` adds a carriage return to the end of the string you’re printing, and calls `sys.stdout.write`."
   ]
  },
  {
   "cell_type": "markdown",
   "metadata": {},
   "source": [
    "*Redirecting Standard Output*"
   ]
  },
  {
   "cell_type": "code",
   "execution_count": 25,
   "metadata": {},
   "outputs": [
    {
     "name": "stdout",
     "output_type": "stream",
     "text": [
      "A\n",
      "C\n"
     ]
    }
   ],
   "source": [
    "import sys\n",
    "class RedirectStdoutTo:\n",
    "    def __init__(self, out_new):\n",
    "        self.out_new = out_new\n",
    "        \n",
    "    def __enter__(self):\n",
    "        self.out_old, sys.stdout = (sys.stdout, self.out_new)\n",
    "        \n",
    "    def __exit__(self, *args):\n",
    "        sys.stdout = self.out_old\n",
    "\n",
    "print('A')\n",
    "with open('out.log', mode='a', encoding='utf-8') as a_file, RedirectStdoutTo(a_file):\n",
    "    print('B')\n",
    "print('C')\n",
    "\n",
    "# with open('out.log', mode='w', encoding='utf-8') as a_file, RedirectStdoutTo(a_file):\n",
    "\n",
    "# Equivalent to\n",
    "\n",
    "# with open('out.log', mode='w', encoding='utf-8') as a_file:\n",
    "#     with RedirectStdoutTo(a_file):"
   ]
  },
  {
   "cell_type": "markdown",
   "metadata": {},
   "source": [
    ">  Any class can be a context manager by defining two special methods: `__enter__()` and `__exit__()`.*Python* calls `__enter__()` when entering a context and `__exit__()` when exiting the context."
   ]
  }
 ],
 "metadata": {
  "kernelspec": {
   "display_name": "Python 3",
   "language": "python",
   "name": "python3"
  },
  "language_info": {
   "codemirror_mode": {
    "name": "ipython",
    "version": 3
   },
   "file_extension": ".py",
   "mimetype": "text/x-python",
   "name": "python",
   "nbconvert_exporter": "python",
   "pygments_lexer": "ipython3",
   "version": "3.8.3"
  }
 },
 "nbformat": 4,
 "nbformat_minor": 4
}
