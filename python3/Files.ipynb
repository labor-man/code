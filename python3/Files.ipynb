{
 "cells": [
  {
   "cell_type": "markdown",
   "metadata": {},
   "source": [
    "1. `os`模块的意思是*操作系统*，包含操作本地目录、文件、进程或环境变量的函数。\n",
    "2. *Python*尽最大努力，使写出的程序只需很少的平台相关代码，即可在所有计算机上运行"
   ]
  },
  {
   "cell_type": "markdown",
   "metadata": {},
   "source": [
    "**当前工作目录**"
   ]
  },
  {
   "cell_type": "code",
   "execution_count": null,
   "metadata": {},
   "outputs": [],
   "source": [
    "import os\n",
    "# 获取当前工作目录\n",
    "os.getcwd()\n",
    "# 更改工作目录\n",
    "os.chdir('/Users/ld/Desktop/')"
   ]
  },
  {
   "cell_type": "markdown",
   "metadata": {},
   "source": [
    "**处理文件名和目录名**(`os.path`)"
   ]
  },
  {
   "cell_type": "code",
   "execution_count": 2,
   "metadata": {},
   "outputs": [
    {
     "name": "stdout",
     "output_type": "stream",
     "text": [
      "/Users/pilgrim/diveintopython3/examples/humansize.py\n"
     ]
    }
   ],
   "source": [
    "# 从一个或多个路径名中构造路径名\n",
    "import os\n",
    "print(os.path.join('/Users/pilgrim/diveintopython3/examples/', 'humansize.py'))"
   ]
  },
  {
   "cell_type": "code",
   "execution_count": null,
   "metadata": {},
   "outputs": [],
   "source": [
    "# 使用根目录\n",
    "import os\n",
    "print(os.path.expanduser('~/Desktop'))"
   ]
  },
  {
   "cell_type": "code",
   "execution_count": 5,
   "metadata": {},
   "outputs": [
    {
     "data": {
      "text/plain": [
       "('/Users/pilgrim/diveintopython3/examples', 'humansize.py')"
      ]
     },
     "execution_count": 5,
     "metadata": {},
     "output_type": "execute_result"
    }
   ],
   "source": [
    "# 从文件完整路径分割路径和文件名\n",
    "import os\n",
    "pathname = '/Users/pilgrim/diveintopython3/examples/humansize.py'\n",
    "os.path.split(pathname)"
   ]
  },
  {
   "cell_type": "markdown",
   "metadata": {},
   "source": [
    "**列出目录**(`glob`)"
   ]
  },
  {
   "cell_type": "code",
   "execution_count": 10,
   "metadata": {},
   "outputs": [
    {
     "data": {
      "text/plain": [
       "['/Users/mac/Music',\n",
       " '/Users/mac/sensors',\n",
       " '/Users/mac/go',\n",
       " '/Users/mac/VirtualBox VMs',\n",
       " '/Users/mac/edb_languagepack.app.zip',\n",
       " '/Users/mac/java_error_in_webstorm.hprof',\n",
       " '/Users/mac/Pictures',\n",
       " '/Users/mac/install.sh',\n",
       " '/Users/mac/node_modules',\n",
       " '/Users/mac/Postman',\n",
       " '/Users/mac/v2rayx_backup_02-11-2020 12:54.json',\n",
       " '/Users/mac/Desktop',\n",
       " '/Users/mac/Library',\n",
       " '/Users/mac/Parallels',\n",
       " '/Users/mac/mbox',\n",
       " '/Users/mac/Public',\n",
       " '/Users/mac/package-lock.json',\n",
       " '/Users/mac/out.log',\n",
       " '/Users/mac/Movies',\n",
       " '/Users/mac/Applications',\n",
       " '/Users/mac/Documents',\n",
       " '/Users/mac/Sunlogin Files',\n",
       " '/Users/mac/anaconda3',\n",
       " '/Users/mac/Downloads']"
      ]
     },
     "execution_count": 10,
     "metadata": {},
     "output_type": "execute_result"
    }
   ],
   "source": [
    "import glob, os\n",
    "glob.glob(os.path.expanduser('~/*'))\n",
    "\n",
    "# glob方法返回一份相对路径名的清单\n",
    "# glob方法接收类似命令行的通配符方式"
   ]
  },
  {
   "cell_type": "markdown",
   "metadata": {},
   "source": [
    "**获取文件元数据**(`os.stat()`)"
   ]
  },
  {
   "cell_type": "code",
   "execution_count": 11,
   "metadata": {},
   "outputs": [
    {
     "data": {
      "text/plain": [
       "os.stat_result(st_mode=16832, st_ino=12884931103, st_dev=16777223, st_nlink=4, st_uid=501, st_gid=20, st_size=128, st_atime=1594368968, st_mtime=1594368828, st_ctime=1594368828)"
      ]
     },
     "execution_count": 11,
     "metadata": {},
     "output_type": "execute_result"
    }
   ],
   "source": [
    "import glob, os\n",
    "os.stat(glob.glob(os.path.expanduser('~/*'))[0])"
   ]
  },
  {
   "cell_type": "markdown",
   "metadata": {},
   "source": [
    "**构造绝对路径**"
   ]
  },
  {
   "cell_type": "code",
   "execution_count": null,
   "metadata": {},
   "outputs": [],
   "source": [
    "os.chdir(os.path.join(os.path.expanduser('~'), 'Desktop', 'umi-blank'))\n",
    "os.getcwd()"
   ]
  },
  {
   "cell_type": "code",
   "execution_count": null,
   "metadata": {},
   "outputs": [],
   "source": [
    "import glob\n",
    "glob.glob('*')"
   ]
  },
  {
   "cell_type": "code",
   "execution_count": 15,
   "metadata": {},
   "outputs": [
    {
     "data": {
      "text/plain": [
       "'/Users/mac/Desktop/code/python3/stream_object.ipynb'"
      ]
     },
     "execution_count": 15,
     "metadata": {},
     "output_type": "execute_result"
    }
   ],
   "source": [
    "import glob, os\n",
    "os.path.realpath(glob.glob('*')[0])"
   ]
  }
 ],
 "metadata": {
  "kernelspec": {
   "display_name": "Python 3",
   "language": "python",
   "name": "python3"
  },
  "language_info": {
   "codemirror_mode": {
    "name": "ipython",
    "version": 3
   },
   "file_extension": ".py",
   "mimetype": "text/x-python",
   "name": "python",
   "nbconvert_exporter": "python",
   "pygments_lexer": "ipython3",
   "version": "3.8.3"
  }
 },
 "nbformat": 4,
 "nbformat_minor": 4
}
