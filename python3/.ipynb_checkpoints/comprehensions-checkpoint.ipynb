{
 "cells": [
  {
   "cell_type": "markdown",
   "metadata": {},
   "source": [
    "1. 推导式提供了一种紧凑的方法，对每一个元素应用某个函数，将其转换成另外一个列表/字典/集合\n",
    "2. 可以在尾部使用if来过滤列表\n",
    "3. 表达式可以是任意的"
   ]
  },
  {
   "cell_type": "markdown",
   "metadata": {},
   "source": [
    "**列表推导**\n",
    "\n",
    "使用中括号"
   ]
  },
  {
   "cell_type": "code",
   "execution_count": 22,
   "metadata": {},
   "outputs": [
    {
     "data": {
      "text/plain": [
       "['/Users/mac/Desktop/agent-frontend',\n",
       " '/Users/mac/Desktop/pure-react-app',\n",
       " '/Users/mac/Desktop/redux-saga-beginner-tutorial',\n",
       " '/Users/mac/Desktop/erms-agent.postman_collection.json',\n",
       " '/Users/mac/Desktop/nyah']"
      ]
     },
     "execution_count": 22,
     "metadata": {},
     "output_type": "execute_result"
    }
   ],
   "source": [
    "import os, glob\n",
    "os.chdir(os.path.join(os.path.expanduser('~'), 'Desktop'))\n",
    "[os.path.realpath(x) for x in glob.glob('*') if 'a' in x]"
   ]
  },
  {
   "cell_type": "markdown",
   "metadata": {},
   "source": [
    "**字典推导式**\n",
    "\n",
    "1. 使用大括号\n",
    "2. 每个元素是包含两个由冒号分隔的表达式"
   ]
  },
  {
   "cell_type": "code",
   "execution_count": 27,
   "metadata": {},
   "outputs": [
    {
     "data": {
      "text/plain": [
       "{'agent-frontend': 1606121967.5732188,\n",
       " 'pure-react-app': 1607052424.6730363,\n",
       " 'redux-saga-beginner-tutorial': 1606971892.338317,\n",
       " 'erms-agent.postman_collection.json': 1606986240.4362385,\n",
       " 'nyah': 1606709227.3088381}"
      ]
     },
     "execution_count": 27,
     "metadata": {},
     "output_type": "execute_result"
    }
   ],
   "source": [
    "{x:os.stat(x).st_atime for x in glob.glob('*') if 'a' in x}"
   ]
  },
  {
   "cell_type": "markdown",
   "metadata": {},
   "source": [
    "**集合推导式**\n",
    "\n",
    "使用大括号"
   ]
  },
  {
   "cell_type": "code",
   "execution_count": 42,
   "metadata": {},
   "outputs": [
    {
     "data": {
      "text/plain": [
       "{2, 4, 6, 8}"
      ]
     },
     "execution_count": 42,
     "metadata": {},
     "output_type": "execute_result"
    }
   ],
   "source": [
    "{x*2 for x in range(1,5)}"
   ]
  },
  {
   "cell_type": "markdown",
   "metadata": {},
   "source": [
    "**没有元组推导式**\n",
    "\n",
    "1. 使用小括号的推导式写法会返回一个生成器\n",
    "2. 格外使用`tuple()`会模拟元组推导式"
   ]
  },
  {
   "cell_type": "code",
   "execution_count": 32,
   "metadata": {},
   "outputs": [
    {
     "data": {
      "text/plain": [
       "generator"
      ]
     },
     "execution_count": 32,
     "metadata": {},
     "output_type": "execute_result"
    }
   ],
   "source": [
    "type((x**x for x in (1,2,3)))"
   ]
  },
  {
   "cell_type": "code",
   "execution_count": 34,
   "metadata": {},
   "outputs": [
    {
     "data": {
      "text/plain": [
       "(1, 4, 27)"
      ]
     },
     "execution_count": 34,
     "metadata": {},
     "output_type": "execute_result"
    }
   ],
   "source": [
    "tuple((x**x for x in (1,2,3)))"
   ]
  },
  {
   "cell_type": "code",
   "execution_count": 35,
   "metadata": {},
   "outputs": [
    {
     "data": {
      "text/plain": [
       "(1, 4, 27)"
      ]
     },
     "execution_count": 35,
     "metadata": {},
     "output_type": "execute_result"
    }
   ],
   "source": [
    "# 可以少写一层括号\n",
    "tuple((x**x for x in (1,2,3)))"
   ]
  }
 ],
 "metadata": {
  "kernelspec": {
   "display_name": "Python 3",
   "language": "python",
   "name": "python3"
  },
  "language_info": {
   "codemirror_mode": {
    "name": "ipython",
    "version": 3
   },
   "file_extension": ".py",
   "mimetype": "text/x-python",
   "name": "python",
   "nbconvert_exporter": "python",
   "pygments_lexer": "ipython3",
   "version": "3.8.3"
  }
 },
 "nbformat": 4,
 "nbformat_minor": 4
}
