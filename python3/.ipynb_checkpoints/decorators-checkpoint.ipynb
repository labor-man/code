{
 "cells": [
  {
   "cell_type": "markdown",
   "metadata": {},
   "source": [
    "> Decorator is a function that creates a wrapper around another function. This wrapper adds some additional functionality to existing code"
   ]
  },
  {
   "cell_type": "code",
   "execution_count": null,
   "metadata": {},
   "outputs": [],
   "source": [
    "def log(func):\n",
    "    def inside_func(*args, **kwargs):\n",
    "        '''This is inside_func doc'''\n",
    "        print(f'*args:{args}, **kwargs:{kwargs}')\n",
    "        return func(*args, **kwargs)\n",
    "    return inside_func\n",
    "\n",
    "def sum(x, y):\n",
    "    '''This is sum doc'''\n",
    "    return x + y\n",
    "\n",
    "log_sum = log(sum)\n",
    "log_sum(1, 1)"
   ]
  },
  {
   "cell_type": "code",
   "execution_count": null,
   "metadata": {},
   "outputs": [],
   "source": [
    "def log(func):\n",
    "    def inside_func(*args, **kwargs):\n",
    "        '''This is inside_func doc'''\n",
    "        print(f'*args:{args}, **kwargs:{kwargs}')\n",
    "        return func(*args, **kwargs)\n",
    "    return inside_func\n",
    "\n",
    "@log\n",
    "def sum(x, y):\n",
    "    '''This is sum doc'''\n",
    "    return x + y\n",
    "\n",
    "sum(1, 1)"
   ]
  },
  {
   "cell_type": "code",
   "execution_count": null,
   "metadata": {},
   "outputs": [],
   "source": [
    "# docstring 不是原来的\n",
    "print(f'sum doc:{sum.__doc__}')"
   ]
  },
  {
   "cell_type": "code",
   "execution_count": null,
   "metadata": {},
   "outputs": [],
   "source": [
    "from functools import wraps\n",
    "\n",
    "def log(func):\n",
    "    @wraps(func)\n",
    "    def inside_func(*args, **kwargs):\n",
    "        '''This is inside_func doc'''\n",
    "        print(f'*args:{args}, **kwargs:{kwargs}')\n",
    "        return func(*args, **kwargs)\n",
    "    return inside_func\n",
    "\n",
    "@log\n",
    "def sum(x, y):\n",
    "    '''This is sum doc'''\n",
    "    return x + y\n",
    "\n",
    "print(sum(1, 1))\n",
    "print('sum doc:{}'.format(sum.__doc__))"
   ]
  },
  {
   "cell_type": "code",
   "execution_count": 2,
   "metadata": {},
   "outputs": [
    {
     "ename": "TypeError",
     "evalue": "log_inside() takes 1 positional argument but 2 were given",
     "output_type": "error",
     "traceback": [
      "\u001b[0;31m---------------------------------------------------------------------------\u001b[0m",
      "\u001b[0;31mTypeError\u001b[0m                                 Traceback (most recent call last)",
      "\u001b[0;32m<ipython-input-2-cb05a7ee5129>\u001b[0m in \u001b[0;36m<module>\u001b[0;34m\u001b[0m\n\u001b[1;32m     31\u001b[0m     \u001b[0;32mreturn\u001b[0m \u001b[0mx\u001b[0m \u001b[0;34m+\u001b[0m \u001b[0my\u001b[0m\u001b[0;34m\u001b[0m\u001b[0;34m\u001b[0m\u001b[0m\n\u001b[1;32m     32\u001b[0m \u001b[0;34m\u001b[0m\u001b[0m\n\u001b[0;32m---> 33\u001b[0;31m \u001b[0msum2\u001b[0m\u001b[0;34m(\u001b[0m\u001b[0;36m1\u001b[0m\u001b[0;34m,\u001b[0m \u001b[0;36m1\u001b[0m\u001b[0;34m)\u001b[0m \u001b[0;31m# 'NameError: name 'sum12' is not defined\u001b[0m\u001b[0;34m\u001b[0m\u001b[0;34m\u001b[0m\u001b[0m\n\u001b[0m",
      "\u001b[0;31mTypeError\u001b[0m: log_inside() takes 1 positional argument but 2 were given"
     ]
    }
   ],
   "source": [
    "# 带参数的装饰器:初步实现\n",
    "from functools import wraps\n",
    "\n",
    "def log(prefix = 'result'):\n",
    "    def log_inside(func):\n",
    "        @wraps(func)\n",
    "        def inside_func(*args, **kwargs):\n",
    "            '''This is inside_func doc'''\n",
    "            return f'{prefix} : {func(*args, **kwargs)}'\n",
    "        return inside_func\n",
    "\n",
    "    return log_inside\n",
    "\n",
    "@log('res')\n",
    "def sum(x, y):\n",
    "    '''This is sum doc'''\n",
    "    return x + y\n",
    "\n",
    "sum(1, 1) # res : 2\n",
    "\n",
    "@log()\n",
    "def sum1(x, y):\n",
    "    '''This is sum doc'''\n",
    "    return x + y\n",
    "\n",
    "sum1(1, 1) # 'result : 2'\n",
    "\n",
    "\n",
    "# 不传参数使用会报错\n",
    "@log\n",
    "def sum2(x, y):\n",
    "    '''This is sum doc'''\n",
    "    return x + y\n",
    "\n",
    "sum2(1, 1) # 'TypeError: log_inside() takes 1 positional argument but 2 were given"
   ]
  },
  {
   "cell_type": "markdown",
   "metadata": {},
   "source": [
    "**正经装饰器**"
   ]
  },
  {
   "cell_type": "code",
   "execution_count": 5,
   "metadata": {},
   "outputs": [
    {
     "data": {
      "text/plain": [
       "'result : 2'"
      ]
     },
     "execution_count": 5,
     "metadata": {},
     "output_type": "execute_result"
    }
   ],
   "source": [
    "from functools import wraps, partial\n",
    "\n",
    "def log(func=None, *, prefix = 'result'):\n",
    "    if func is None:\n",
    "        return partial(log, prefix = prefix)\n",
    "\n",
    "    @wraps(func)\n",
    "    def inside_func(*args, **kwargs):\n",
    "        '''This is inside_func doc'''\n",
    "        return f'{prefix} : {func(*args, **kwargs)}'\n",
    "\n",
    "    return inside_func\n",
    "\n",
    "@log(prefix='res')\n",
    "def sum(x, y):\n",
    "    '''This is sum doc'''\n",
    "    return x + y\n",
    "sum(1, 1) # 'res : 2'\n",
    "\n",
    "@log\n",
    "def sum1(x, y):\n",
    "\t'''This is sum doc'''\n",
    "\treturn x + y\n",
    "\n",
    "sum1(1, 1) # 'result : 2'"
   ]
  },
  {
   "cell_type": "code",
   "execution_count": null,
   "metadata": {},
   "outputs": [],
   "source": [
    "# Decorators inside the class\n",
    "from datetime import datetime\n",
    "from functools import wraps\n",
    "\n",
    "class DateDecorator(object):\n",
    "    def instanceMethodDecorator(self, f):   # !!! class method always have self parameter\n",
    "        @wraps(f)\n",
    "        def inside_f(*args, **kwargs):\n",
    "            print('instance method decorator at time:\\n{}'.format(datetime.now()))\n",
    "            return f(*args, **kwargs)\n",
    "        return inside_f\n",
    "\n",
    "    @classmethod\n",
    "    def classMethodDecorator(self, f):  # !!! class method always have self parameter\n",
    "        @wraps(f)\n",
    "        def inside_f(*args, **kwargs):1\n",
    "            print('class method decorator at time:\\n{}'.format(datetime.now()))\n",
    "            return f(*args, **kwargs)\n",
    "        return inside_f\n",
    "\n",
    "dateDecorator = DateDecorator()\n",
    "\n",
    "@dateDecorator.instanceMethodDecorator\n",
    "def sum(x, y):\n",
    "    return x + y\n",
    "\n",
    "print(sum(1, 1))\n",
    "\n",
    "@DateDecorator.classMethodDecorator\n",
    "def subs(x, y):\n",
    "    return x - y\n",
    "\n",
    "print(subs(2, 1))"
   ]
  }
 ],
 "metadata": {
  "kernelspec": {
   "display_name": "Python 3",
   "language": "python",
   "name": "python3"
  },
  "language_info": {
   "codemirror_mode": {
    "name": "ipython",
    "version": 3
   },
   "file_extension": ".py",
   "mimetype": "text/x-python",
   "name": "python",
   "nbconvert_exporter": "python",
   "pygments_lexer": "ipython3",
   "version": "3.8.3"
  }
 },
 "nbformat": 4,
 "nbformat_minor": 4
}
