{
 "cells": [
  {
   "cell_type": "code",
   "execution_count": 2,
   "metadata": {},
   "outputs": [
    {
     "data": {
      "text/plain": [
       "'100 NORTH BROAD RD.'"
      ]
     },
     "execution_count": 2,
     "metadata": {},
     "output_type": "execute_result"
    }
   ],
   "source": [
    "# 使用正则表达式需要引入re\n",
    "import re\n",
    "s = '100 NORTH BROAD ROAD'\n",
    "re.sub('ROAD', 'RD.', s) # '100 NORTH BRD. RD.'\n",
    "\n",
    "# \\在Python中是一个本身需要被转义的字符\n",
    "re.sub('\\bROAD', 'RD.', s) # '100 NORTH BROAD ROAD'\n",
    "re.sub('\\\\bROAD', 'RD.', s) # '100 NORTH BROAD RD.'\n",
    "\n",
    "# raw string 通过在字符串前加前缀r告诉Python，字符串里的字符都不需要转义\n",
    "re.sub(r'\\bROAD', 'RD.', s) # '100 NORTH BROAD RD.'\n",
    "\n",
    "# 如果正则表达式比较长，使用 verbose regular expressions \n",
    "# 在verbose regular expressions中，空白字符会被忽略（要使用他们需要转义）；注释也会被忽略\n",
    "pattern = '''\n",
    "    ^                   # beginning of string\n",
    "    M{0,3}              # thousands - 0 to 3 Ms\n",
    "    (CM|CD|D?C{0,3})    # hundreds - 900 (CM), 400 (CD), 0-300 (0 to 3 Cs),\n",
    "                        #            or 500-800 (D, followed by 0 to 3 Cs)\n",
    "    (XC|XL|L?X{0,3})    # tens - 90 (XC), 40 (XL), 0-30 (0 to 3 Xs),\n",
    "                        #        or 50-80 (L, followed by 0 to 3 Xs)\n",
    "    (IX|IV|V?I{0,3})    # ones - 9 (IX), 4 (IV), 0-3 (0 to 3 Is),\n",
    "                        #        or 5-8 (V, followed by 0 to 3 Is)\n",
    "    $                   # end of string\n",
    "    '''\n",
    "# 要使用verbose regular expressions，需要传递额外参数re.VERBOSE\n",
    "re.search(pattern, 'M', re.VERBOSE)"
   ]
  },
  {
   "cell_type": "markdown",
   "metadata": {},
   "source": [
    "**verbose regular expressions**"
   ]
  },
  {
   "cell_type": "code",
   "execution_count": 2,
   "metadata": {},
   "outputs": [
    {
     "data": {
      "text/plain": [
       "<re.Match object; span=(0, 1), match='M'>"
      ]
     },
     "execution_count": 2,
     "metadata": {},
     "output_type": "execute_result"
    }
   ],
   "source": [
    "pattern = '''\n",
    "    ^                   # beginning of string\n",
    "    M{0,3}              # thousands - 0 to 3 Ms\n",
    "    (CM|CD|D?C{0,3})    # hundreds - 900 (CM), 400 (CD), 0-300 (0 to 3 Cs),\n",
    "                        #            or 500-800 (D, followed by 0 to 3 Cs)\n",
    "    (XC|XL|L?X{0,3})    # tens - 90 (XC), 40 (XL), 0-30 (0 to 3 Xs),\n",
    "                        #        or 50-80 (L, followed by 0 to 3 Xs)\n",
    "    (IX|IV|V?I{0,3})    # ones - 9 (IX), 4 (IV), 0-3 (0 to 3 Is),\n",
    "                        #        or 5-8 (V, followed by 0 to 3 Is)\n",
    "    $                   # end of string\n",
    "    '''\n",
    "import re\n",
    "re.search(pattern, 'M', re.VERBOSE)"
   ]
  }
 ],
 "metadata": {
  "kernelspec": {
   "display_name": "Python 3",
   "language": "python",
   "name": "python3"
  },
  "language_info": {
   "codemirror_mode": {
    "name": "ipython",
    "version": 3
   },
   "file_extension": ".py",
   "mimetype": "text/x-python",
   "name": "python",
   "nbconvert_exporter": "python",
   "pygments_lexer": "ipython3",
   "version": "3.8.3"
  }
 },
 "nbformat": 4,
 "nbformat_minor": 4
}
