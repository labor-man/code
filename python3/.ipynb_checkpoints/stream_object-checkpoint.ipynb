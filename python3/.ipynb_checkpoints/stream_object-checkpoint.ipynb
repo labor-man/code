{
 "cells": [
  {
   "cell_type": "markdown",
   "metadata": {},
   "source": [
    "**处理文本文件**"
   ]
  },
  {
   "cell_type": "code",
   "execution_count": null,
   "metadata": {},
   "outputs": [],
   "source": [
    "# try..finally is good. with is better.\n",
    "# with 会自动关闭文件\n",
    "# mode参数 r(读) w(写) a(添加) \n",
    "with open('example.txt', encoding='utf-8') as a_file:\n",
    "    a_file.seek(17)\n",
    "    a_character = a_file.read(1)\n",
    "    print(a_character)"
   ]
  },
  {
   "cell_type": "markdown",
   "metadata": {},
   "source": [
    "**处理二进制文件**"
   ]
  },
  {
   "cell_type": "code",
   "execution_count": null,
   "metadata": {},
   "outputs": [],
   "source": [
    "# mode参数 b\n",
    "an_image = open('example.jpg', mode='rb')"
   ]
  },
  {
   "cell_type": "markdown",
   "metadata": {},
   "source": [
    "**处理压缩文件**"
   ]
  },
  {
   "cell_type": "code",
   "execution_count": null,
   "metadata": {},
   "outputs": [],
   "source": [
    "# 始终以二进制模式打开压缩文件\n",
    "import gzip\n",
    "with gzip.open('temp gzip file.txt.gz', mode='wb') as z_file:\n",
    "    z_file.write(\"I'm testing python gzip module\".encode('utf-8'))"
   ]
  },
  {
   "cell_type": "markdown",
   "metadata": {},
   "source": [
    "**处理来自非文件源的流对象**"
   ]
  },
  {
   "cell_type": "code",
   "execution_count": 6,
   "metadata": {},
   "outputs": [
    {
     "name": "stdout",
     "output_type": "stream",
     "text": [
      "PapayaWhip is the new black.\n"
     ]
    }
   ],
   "source": [
    "a_string = '''PapayaWhip is the new black.'''\n",
    "import io\n",
    "with io.StringIO(a_string) as stream:\n",
    "    print(stream.read())"
   ]
  },
  {
   "cell_type": "markdown",
   "metadata": {},
   "source": [
    "**标准输入，标准输出和标准错误**"
   ]
  },
  {
   "cell_type": "markdown",
   "metadata": {},
   "source": [
    "> Standard output and standard error (commonly abbreviated stdout and stderr) are pipes that are built into every unix-like system, including Mac OS X and Linux. When you call the print() function, the thing you’re printing is sent to the stdout pipe. When your program crashes and prints out a traceback, it goes to the stderr pipe. By default, both of these pipes are just connected to the terminal window where you are working; when your program prints something, you see the output in your terminal window, and when a program crashes, you see the traceback in your terminal window too. In the graphical Python Shell, the stdout and stderr pipes default to your “Interactive Window”."
   ]
  },
  {
   "cell_type": "code",
   "execution_count": 8,
   "metadata": {},
   "outputs": [
    {
     "name": "stdout",
     "output_type": "stream",
     "text": [
      "python\n",
      "python\n",
      "python\n"
     ]
    }
   ],
   "source": [
    "for i in range(3):\n",
    "    print('python')"
   ]
  },
  {
   "cell_type": "code",
   "execution_count": 9,
   "metadata": {},
   "outputs": [
    {
     "name": "stdout",
     "output_type": "stream",
     "text": [
      "python\n",
      "python\n",
      "python\n"
     ]
    }
   ],
   "source": [
    "import sys\n",
    "for i in range(3):\n",
    "    sys.stdout.write('python\\n')"
   ]
  },
  {
   "cell_type": "code",
   "execution_count": 4,
   "metadata": {},
   "outputs": [
    {
     "name": "stderr",
     "output_type": "stream",
     "text": [
      "pythonpythonpython"
     ]
    }
   ],
   "source": [
    "import sys\n",
    "for i in range(3):\n",
    "    sys.stderr.write('python')"
   ]
  },
  {
   "cell_type": "markdown",
   "metadata": {},
   "source": [
    "> `sys.stdout` and `sys.stderr` 是流对象，但是是只读的"
   ]
  },
  {
   "cell_type": "markdown",
   "metadata": {},
   "source": [
    "> `print()` 将回车符添加到要打印的字符串的末尾然后调用`sys.stdout.write`."
   ]
  },
  {
   "cell_type": "markdown",
   "metadata": {},
   "source": [
    "**重定向标准输出**"
   ]
  },
  {
   "cell_type": "code",
   "execution_count": 13,
   "metadata": {},
   "outputs": [
    {
     "name": "stdout",
     "output_type": "stream",
     "text": [
      "A\n",
      "C\n"
     ]
    }
   ],
   "source": [
    "import sys, os\n",
    "class RedirectStdoutTo:\n",
    "    def __init__(self, out_new):\n",
    "        self.out_new = out_new\n",
    "        \n",
    "    def __enter__(self):\n",
    "        self.out_old, sys.stdout = (sys.stdout, self.out_new)\n",
    "        \n",
    "    def __exit__(self, *args):\n",
    "        sys.stdout = self.out_old\n",
    "\n",
    "print('A')\n",
    "with open(os.path.join(os.path.expanduser('~/Desktop'), 'out.log'), mode='a', encoding='utf-8') as a_file, RedirectStdoutTo(a_file):\n",
    "    print('B')\n",
    "print('C')\n",
    "\n",
    "# with open('out.log', mode='w', encoding='utf-8') as a_file, RedirectStdoutTo(a_file):\n",
    "\n",
    "# Equivalent to\n",
    "\n",
    "# with open('out.log', mode='w', encoding='utf-8') as a_file:\n",
    "#     with RedirectStdoutTo(a_file):"
   ]
  },
  {
   "cell_type": "markdown",
   "metadata": {},
   "source": [
    "**上下文管理器**(context manager)"
   ]
  },
  {
   "cell_type": "markdown",
   "metadata": {},
   "source": [
    "1. 通过定义两个特殊方法，任何类都可以成为上下文管理器：`__enter __()`和`__exit __()`\n",
    "2. *Python* 在进入上下文时调用`__enter __()`，在退出上下文时调用`__exit __()`"
   ]
  }
 ],
 "metadata": {
  "kernelspec": {
   "display_name": "Python 3",
   "language": "python",
   "name": "python3"
  },
  "language_info": {
   "codemirror_mode": {
    "name": "ipython",
    "version": 3
   },
   "file_extension": ".py",
   "mimetype": "text/x-python",
   "name": "python",
   "nbconvert_exporter": "python",
   "pygments_lexer": "ipython3",
   "version": "3.8.3"
  }
 },
 "nbformat": 4,
 "nbformat_minor": 4
}
