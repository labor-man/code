{
 "cells": [
  {
   "cell_type": "markdown",
   "metadata": {},
   "source": [
    "1. 迭代器是定义了`__iter __()`方法的类.\n",
    "2. `__iter __()`方法需要返回实现了`__next __()`方法的对象\n",
    "3. `iter(f)`会调用`f.__iter__`\n",
    "4. `next(f)`会调用`f.__next__`\n",
    "5. `StopIteration` 标记迭代器耗尽"
   ]
  },
  {
   "cell_type": "markdown",
   "metadata": {},
   "source": [
    "**一道经典难题**"
   ]
  },
  {
   "cell_type": "code",
   "execution_count": 10,
   "metadata": {},
   "outputs": [],
   "source": [
    "import re\n",
    "import itertools\n",
    "\n",
    "def solve(puzzle):\n",
    "    words = re.findall('[A-Z]+', puzzle.upper())\n",
    "    unique_characters = set(''.join(words))\n",
    "    assert len(unique_characters) <= 10, 'Too many letters'\n",
    "    first_letters = {word[0] for word in words}\n",
    "    n = len(first_letters)\n",
    "    sorted_characters = ''.join(first_letters) + \\\n",
    "        ''.join(unique_characters - first_letters)\n",
    "    characters = tuple(ord(c) for c in sorted_characters)\n",
    "    digits = tuple(ord(c) for c in '0123456789')\n",
    "    zero = digits[0]\n",
    "    for guess in itertools.permutations(digits, len(characters)):\n",
    "        if zero not in guess[:n]:\n",
    "            equation = puzzle.translate(dict(zip(characters, guess)))\n",
    "            if eval(equation):\n",
    "                return equation"
   ]
  },
  {
   "cell_type": "code",
   "execution_count": 11,
   "metadata": {},
   "outputs": [
    {
     "name": "stdout",
     "output_type": "stream",
     "text": [
      "words:['SEND', 'MORE', 'MONEY']\n",
      "unique_characters:{'M', 'S', 'O', 'R', 'E', 'D', 'Y', 'N'}\n",
      "sorted_characters:MSOREDYN\n",
      "characters:(77, 83, 79, 82, 69, 68, 89, 78)\n",
      "digits:(48, 49, 50, 51, 52, 53, 54, 55, 56, 57)\n",
      "zero:48\n"
     ]
    },
    {
     "data": {
      "text/plain": [
       "'9567 + 1085 == 10652'"
      ]
     },
     "execution_count": 11,
     "metadata": {},
     "output_type": "execute_result"
    }
   ],
   "source": [
    "solve('SEND + MORE == MONEY')"
   ]
  },
  {
   "cell_type": "code",
   "execution_count": 6,
   "metadata": {},
   "outputs": [
    {
     "data": {
      "text/plain": [
       "'zip(*iterables) --> zip object\\n\\nReturn a zip object whose .__next__() method returns a tuple where\\nthe i-th element comes from the i-th iterable argument.  The .__next__()\\nmethod continues until the shortest iterable in the argument sequence\\nis exhausted and then it raises StopIteration.'"
      ]
     },
     "execution_count": 6,
     "metadata": {},
     "output_type": "execute_result"
    }
   ],
   "source": [
    "zip.__doc__"
   ]
  },
  {
   "cell_type": "code",
   "execution_count": 7,
   "metadata": {},
   "outputs": [
    {
     "data": {
      "text/plain": [
       "<zip at 0x7fb047b9e140>"
      ]
     },
     "execution_count": 7,
     "metadata": {},
     "output_type": "execute_result"
    }
   ],
   "source": [
    "zip((1,2,3), ('a', 'b', 'c'))"
   ]
  },
  {
   "cell_type": "code",
   "execution_count": 8,
   "metadata": {},
   "outputs": [
    {
     "data": {
      "text/plain": [
       "[(1, 'a'), (2, 'b'), (3, 'c')]"
      ]
     },
     "execution_count": 8,
     "metadata": {},
     "output_type": "execute_result"
    }
   ],
   "source": [
    "list(zip((1,2,3), ('a', 'b', 'c')))"
   ]
  },
  {
   "cell_type": "code",
   "execution_count": 9,
   "metadata": {},
   "outputs": [
    {
     "data": {
      "text/plain": [
       "{1: 'a', 2: 'b', 3: 'c'}"
      ]
     },
     "execution_count": 9,
     "metadata": {},
     "output_type": "execute_result"
    }
   ],
   "source": [
    "dict(zip((1,2,3), ('a', 'b', 'c')))"
   ]
  },
  {
   "cell_type": "code",
   "execution_count": 13,
   "metadata": {},
   "outputs": [
    {
     "data": {
      "text/plain": [
       "'abcbabcbab'"
      ]
     },
     "execution_count": 13,
     "metadata": {},
     "output_type": "execute_result"
    }
   ],
   "source": [
    "'123213131313'.translate(dict(zip((1,2,3), ('a', 'b', 'c'))))"
   ]
  },
  {
   "cell_type": "code",
   "execution_count": 14,
   "metadata": {},
   "outputs": [
    {
     "data": {
      "text/plain": [
       "'Replace each character in the string using the given translation table.\\n\\n  table\\n    Translation table, which must be a mapping of Unicode ordinals to\\n    Unicode ordinals, strings, or None.\\n\\nThe table must implement lookup/indexing via __getitem__, for instance a\\ndictionary or list.  If this operation raises LookupError, the character is\\nleft untouched.  Characters mapped to None are deleted.'"
      ]
     },
     "execution_count": 14,
     "metadata": {},
     "output_type": "execute_result"
    }
   ],
   "source": [
    "str.translate.__doc__"
   ]
  },
  {
   "cell_type": "code",
   "execution_count": 15,
   "metadata": {},
   "outputs": [
    {
     "data": {
      "text/plain": [
       "{'a': '1', 'b': '2', 'c': '3'}"
      ]
     },
     "execution_count": 15,
     "metadata": {},
     "output_type": "execute_result"
    }
   ],
   "source": [
    "dict(zip('abc', '123'))"
   ]
  },
  {
   "cell_type": "code",
   "execution_count": 16,
   "metadata": {},
   "outputs": [
    {
     "data": {
      "text/plain": [
       "'abcbacacacac'"
      ]
     },
     "execution_count": 16,
     "metadata": {},
     "output_type": "execute_result"
    }
   ],
   "source": [
    "'123213131313'.translate(dict(zip((ord(x) for x in '123'), (ord(x) for x in 'abc'))))"
   ]
  },
  {
   "cell_type": "code",
   "execution_count": null,
   "metadata": {},
   "outputs": [],
   "source": []
  }
 ],
 "metadata": {
  "kernelspec": {
   "display_name": "Python 3",
   "language": "python",
   "name": "python3"
  },
  "language_info": {
   "codemirror_mode": {
    "name": "ipython",
    "version": 3
   },
   "file_extension": ".py",
   "mimetype": "text/x-python",
   "name": "python",
   "nbconvert_exporter": "python",
   "pygments_lexer": "ipython3",
   "version": "3.8.3"
  }
 },
 "nbformat": 4,
 "nbformat_minor": 4
}
