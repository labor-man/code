{
 "cells": [
  {
   "cell_type": "markdown",
   "metadata": {},
   "source": [
    "> *Distutils* --- *Python 3* packaging framework."
   ]
  },
  {
   "cell_type": "markdown",
   "metadata": {},
   "source": [
    "# Things to do"
   ]
  },
  {
   "cell_type": "markdown",
   "metadata": {},
   "source": [
    "1. **Choose a license**.\n",
    "2. **classify**.\n",
    "3. **Write a \"read me\" file**."
   ]
  },
  {
   "cell_type": "markdown",
   "metadata": {},
   "source": [
    "# Directory Structure"
   ]
  },
  {
   "cell_type": "markdown",
   "metadata": {},
   "source": [
    "your_lib/\n",
    "\n",
    "|\n",
    "\n",
    "+--README.txt\n",
    "\n",
    "|\n",
    "\n",
    "+--setup.py\n",
    "\n",
    "|\n",
    "\n",
    "+--your_lib/\n",
    "\n",
    "    |\n",
    "   \n",
    "    +--__init__.py\n",
    "   \n",
    "    |\n",
    "    +--others.py"
   ]
  },
  {
   "cell_type": "code",
   "execution_count": null,
   "metadata": {},
   "outputs": [],
   "source": []
  }
 ],
 "metadata": {
  "kernelspec": {
   "display_name": "Python 3",
   "language": "python",
   "name": "python3"
  },
  "language_info": {
   "codemirror_mode": {
    "name": "ipython",
    "version": 3
   },
   "file_extension": ".py",
   "mimetype": "text/x-python",
   "name": "python",
   "nbconvert_exporter": "python",
   "pygments_lexer": "ipython3",
   "version": "3.7.6"
  }
 },
 "nbformat": 4,
 "nbformat_minor": 4
}
