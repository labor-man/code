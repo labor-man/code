{
 "cells": [
  {
   "cell_type": "markdown",
   "metadata": {},
   "source": [
    "1. 每个类方法的第一个参数都是对当前实例的引用，按照惯例该参数命名为self。\n",
    "2. `__init__()` 方法调用时，实例已经被创建了"
   ]
  },
  {
   "cell_type": "markdown",
   "metadata": {},
   "source": [
    "**特殊方法**"
   ]
  },
  {
   "cell_type": "code",
   "execution_count": 1,
   "metadata": {},
   "outputs": [
    {
     "name": "stdout",
     "output_type": "stream",
     "text": [
      "book str: Steve Jobs by Walter Isaacson\n",
      "book len: 500\n",
      "-----------------------------------------------------\n"
     ]
    }
   ],
   "source": [
    "class Book():\n",
    "\tdef __init__(self, title, author, pages):\n",
    "\t\tself.title = title\n",
    "\t\tself.author = author\n",
    "\t\tself.pages = pages\n",
    "\n",
    "\tdef __str__(self):\n",
    "\t\treturn f'{self.title} by {self.author}'\n",
    "\n",
    "\tdef __len__(self):\n",
    "\t\treturn self.pages\n",
    "\n",
    "book = Book('Steve Jobs', 'Walter Isaacson', 500)\n",
    "\n",
    "print(f'book str: {book}')\n",
    "print(f'book len: {len(book)}')"
   ]
  },
  {
   "cell_type": "markdown",
   "metadata": {},
   "source": [
    "**多态**"
   ]
  },
  {
   "cell_type": "code",
   "execution_count": 2,
   "metadata": {},
   "outputs": [
    {
     "name": "stdout",
     "output_type": "stream",
     "text": [
      "Sam says woof!\n",
      "Cleo says meow!\n"
     ]
    }
   ],
   "source": [
    "class Animal():\n",
    "\tdef __init__(self, name):\n",
    "\t\tself.name = name\n",
    "\n",
    "\tdef speak(self):\n",
    "\t\traise NotImplementedError('Subclass must implement this abstract method!')\n",
    "\n",
    "class Dog(Animal):\n",
    "\tdef speak(self):\n",
    "\t\treturn f'{self.name} says woof!'\n",
    "\n",
    "class Cat(Animal):\n",
    "\tdef speak(self):\n",
    "\t\treturn f'{self.name} says meow!'\t\t\n",
    "\n",
    "Sam = Dog('Sam')\n",
    "print(Sam.speak())\n",
    "\n",
    "Cleo = Cat('Cleo')\n",
    "print(Cleo.speak())"
   ]
  }
 ],
 "metadata": {
  "kernelspec": {
   "display_name": "Python 3",
   "language": "python",
   "name": "python3"
  },
  "language_info": {
   "codemirror_mode": {
    "name": "ipython",
    "version": 3
   },
   "file_extension": ".py",
   "mimetype": "text/x-python",
   "name": "python",
   "nbconvert_exporter": "python",
   "pygments_lexer": "ipython3",
   "version": "3.8.3"
  }
 },
 "nbformat": 4,
 "nbformat_minor": 4
}
