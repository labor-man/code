{
 "cells": [
  {
   "cell_type": "markdown",
   "metadata": {},
   "source": [
    "*python* 中每个值都属于某种数据类型，但是不需要声明变量的数据类型，*python*会根据赋值情况分析类型，进行追踪。"
   ]
  },
  {
   "cell_type": "markdown",
   "metadata": {},
   "source": [
    "**布尔**"
   ]
  },
  {
   "cell_type": "markdown",
   "metadata": {},
   "source": [
    "> 某些地方（如 if 语句）*Python* 预期一个布尔值，这些位置称为*布尔类型上下文环境*，可以使用任何表达式，而 *Python* 将试图判断其真值。"
   ]
  },
  {
   "cell_type": "code",
   "execution_count": null,
   "metadata": {},
   "outputs": [],
   "source": [
    "True\n",
    "False"
   ]
  },
  {
   "cell_type": "markdown",
   "metadata": {},
   "source": [
    "**数值**"
   ]
  },
  {
   "cell_type": "markdown",
   "metadata": {},
   "source": [
    "> *Python*通过小数点来分辨整型和浮点型"
   ]
  },
  {
   "cell_type": "code",
   "execution_count": null,
   "metadata": {},
   "outputs": [],
   "source": [
    "# Python通过小数点来分辨整型和浮点型\n",
    "# int与float相加得到float，python先将int强制转换成float再相加\n",
    "type(1) # int\n",
    "isinstance(1, int) # True\n",
    "type(1.0) # float\n",
    "isinstance(1.0, float) # True\n",
    "type(1+1.1) # float\n",
    "\n",
    "# 通过int和float函数进行相互转换\n",
    "float(1)\n",
    "int(1.0)\n",
    "\n",
    "# int取整不是四舍五入，也不是地板函数，而是截断\n",
    "int(1.1) # 1\n",
    "\n",
    "# 浮点数精确到小数点后15位数，第16位会四舍五入\n",
    "1.12345678901234567890 # 1.1234567890123457\n",
    "\n",
    "# 整数可以任意大\n",
    "12345678901234567890 # 12345678901234567890\n",
    "\n",
    "# 浮点除法。即便分子分母都是int，也返回float类型\n",
    "type(10/2) # float\n",
    "\n",
    "# 整数除法返回整数，总是向下取整\n",
    "11//2 # 4\n",
    "-11//2 # -6\n",
    "\n",
    "# 整除取余数\n",
    "11%2 #1\n",
    "\n",
    "# 幂运算\n",
    "2**10\n",
    "\n",
    "pass"
   ]
  },
  {
   "cell_type": "markdown",
   "metadata": {},
   "source": [
    "**分数**"
   ]
  },
  {
   "cell_type": "code",
   "execution_count": null,
   "metadata": {},
   "outputs": [],
   "source": [
    "# 用分数需要先引入fractions模块\n",
    "import fractions\n",
    "\n",
    "# 创建Fraction并传入分子分母\n",
    "fractions.Fraction(1,3) # Fraction(1, 3)\n",
    "\n",
    "# 可对分数进行所有的常规数学运算， 返回一个Fraction对象\n",
    "x = fractions.Fraction(1,2)\n",
    "x ** 2 # Fraction(1, 9)\n",
    "\n",
    "# Fraction对象自动进行约分\n",
    "fractions.Fraction(32,1024) # Fraction(1, 32)\n",
    "\n",
    "# 以 0 为分母会报错\n",
    "fractions.Fraction(1,0) # ZeroDivisionError..."
   ]
  },
  {
   "cell_type": "markdown",
   "metadata": {},
   "source": [
    "**三角函数**"
   ]
  },
  {
   "cell_type": "code",
   "execution_count": null,
   "metadata": {},
   "outputs": [],
   "source": [
    "# 使用三角函数需要引入math模块\n",
    "import math\n",
    "\n",
    "# pi\n",
    "math.pi\n",
    "\n",
    "math.tan(math.pi/4) # 0.9999999999999999\n",
    "math.sin(math.pi/2) # 1.0"
   ]
  },
  {
   "cell_type": "markdown",
   "metadata": {},
   "source": [
    "**布尔上下文环境中的数值**"
   ]
  },
  {
   "cell_type": "code",
   "execution_count": null,
   "metadata": {},
   "outputs": [],
   "source": [
    "# 非零为True，零为False（包括浮点的零也是False)\n",
    "bool(1) # True\n",
    "bool(0) # False\n",
    "bool(0.0) # False\n",
    "bool(0.1) # True"
   ]
  },
  {
   "cell_type": "markdown",
   "metadata": {},
   "source": [
    "**列表**"
   ]
  },
  {
   "cell_type": "code",
   "execution_count": null,
   "metadata": {},
   "outputs": [],
   "source": [
    "a_list = ['a', 'b', 'c', 'd']\n",
    "a_list[1] # b\n",
    "a_list[-1] # c\n",
    "\n",
    "# 访问没有的索引会报错\n",
    "a_list[100] # IndexError..."
   ]
  },
  {
   "cell_type": "markdown",
   "metadata": {},
   "source": [
    "- 切片"
   ]
  },
  {
   "cell_type": "code",
   "execution_count": null,
   "metadata": {},
   "outputs": [],
   "source": [
    "# 使用:获取任何部分作为新列表\n",
    "a_list[1:3] # ['b', 'c']\n",
    "a_list[:3] # ['a', 'b', 'c']\n",
    "a_list[1:] # ['b', 'c', 'd']\n",
    "a_list[:] # ['a', 'b', 'c', 'd']"
   ]
  },
  {
   "cell_type": "markdown",
   "metadata": {},
   "source": [
    "- 增加元素"
   ]
  },
  {
   "cell_type": "code",
   "execution_count": null,
   "metadata": {},
   "outputs": [],
   "source": [
    "b_list = ['a']\n",
    "# 返回的是新数组\n",
    "b_list + ['b', 'c'] # ['a', 'b', 'c']\n",
    "\n",
    "b_list.append('b')\n",
    "b_list # ['a', 'b']\n",
    "b_list.extend(['e', 'f'])\n",
    "b_list # ['a', 'b', 'c', 'd']\n",
    "b_list.insert(0, 'e') # ['e', 'a', 'b', 'c', 'd']"
   ]
  },
  {
   "cell_type": "markdown",
   "metadata": {},
   "source": [
    "- 检索"
   ]
  },
  {
   "cell_type": "code",
   "execution_count": null,
   "metadata": {},
   "outputs": [],
   "source": [
    "c_list = ['a', 'b', 'c', 'd', 'a']\n",
    "c_list.count('a') # 2\n",
    "'b' in c_list # True\n",
    "'e' in c_list # False\n",
    "\n",
    "# index方法查找第一次出现的位置，没找到就会报错\n",
    "c_list.index('c') # 2\n",
    "c_list.index('e') # ValueError"
   ]
  },
  {
   "cell_type": "markdown",
   "metadata": {},
   "source": [
    "- 删除"
   ]
  },
  {
   "cell_type": "code",
   "execution_count": null,
   "metadata": {},
   "outputs": [],
   "source": [
    "# 删除列表元素不会产生缝隙\n",
    "d_list = ['a', 'b', 'c']\n",
    "del d_list[1]\n",
    "d_list # ['a', 'c']\n",
    "\n",
    "# remove方法根据值来删除第一次出现的元素，如果没有会报错\n",
    "d_list.remove('a')\n",
    "d_list.remove('a') # ValueError...\n",
    "\n",
    "# pop方法删除并返回一个值\n",
    "e_list = ['a','b','c','d']\n",
    "e_list.pop() # d\n",
    "e_list # ['a', 'b', 'c']\n",
    "\n",
    "# pop可以指定删除特定位置的值\n",
    "e_list.pop(1) # b\n",
    "e_list # ['a', 'c']\n",
    "\n",
    "# 空列表调用pop会抛出异常"
   ]
  },
  {
   "cell_type": "markdown",
   "metadata": {},
   "source": [
    "- 布尔上下文环境中的列表"
   ]
  },
  {
   "cell_type": "code",
   "execution_count": null,
   "metadata": {},
   "outputs": [],
   "source": [
    "# 空列表为False，其他所有列表为True\n",
    "bool([1]) # True\n",
    "bool([]) # False"
   ]
  },
  {
   "cell_type": "markdown",
   "metadata": {},
   "source": [
    "**元组**"
   ]
  },
  {
   "cell_type": "code",
   "execution_count": null,
   "metadata": {},
   "outputs": [],
   "source": [
    "a_tuple = (\"a\", \"b\", \"c\") \n",
    "\n",
    "# 创建空元组\n",
    "b_tuple = () \n",
    "\n",
    "# 创建单元素元组，需要加一个,\n",
    "('a') # 'a'\n",
    "('a',) # ('a',)\n",
    "\n",
    "# 元组解包\n",
    "(x, y, z) = ('a', 2, True)\n",
    "\n",
    "# 使用生成器揭包\n",
    "(MONDAY, TUESDAY, WEDNESDAY, THURSDAY, FRIDAY, SATURDAY, SUNDAY) = range(7) "
   ]
  },
  {
   "cell_type": "markdown",
   "metadata": {},
   "source": [
    "- 元组操作"
   ]
  },
  {
   "cell_type": "markdown",
   "metadata": {},
   "source": [
    "1. 元组是不可变的列表，不可以修改元素\n",
    "2. 从实践上来说，没有修改元素的方法\n",
    "3. 可以进行切片操作（因为返回新的元组），可以查找"
   ]
  },
  {
   "cell_type": "markdown",
   "metadata": {},
   "source": [
    "- 元组特点"
   ]
  },
  {
   "cell_type": "markdown",
   "metadata": {},
   "source": [
    "1. 相对于列表，元组速度更快，适合于只想遍历的情景。\n",
    "2. 存不需要改变的数据，保证安全性\n",
    "3. 可以作为字典键位"
   ]
  },
  {
   "cell_type": "markdown",
   "metadata": {},
   "source": [
    "- 布尔上下文环境中的元组"
   ]
  },
  {
   "cell_type": "code",
   "execution_count": null,
   "metadata": {},
   "outputs": [],
   "source": [
    "# 空元素为假值\n",
    "bool(()) # False\n",
    "\n",
    "bool((False,)) # True\n",
    "type((False,)) # tuple\n",
    "\n",
    "bool((False)) # False\n",
    "type((False)) # bool"
   ]
  },
  {
   "cell_type": "markdown",
   "metadata": {},
   "source": [
    "**集合**"
   ]
  },
  {
   "cell_type": "code",
   "execution_count": null,
   "metadata": {},
   "outputs": [],
   "source": [
    "a_set = {1,2}\n",
    "\n",
    "# 创建空集合\n",
    "set() # set()\n",
    "\n",
    "# 不能使用两个花括号来创建空集合\n",
    "not_sure = {}\n",
    "type(not_sure) # dict\n",
    "\n",
    "# 从列表生成，可以去重\n",
    "set(['a', 'b', 'c', 'a', True, 100]) # {100, True, 'a', 'b', 'c'}\n",
    "\n"
   ]
  },
  {
   "cell_type": "markdown",
   "metadata": {},
   "source": [
    "- 添加元素"
   ]
  },
  {
   "cell_type": "code",
   "execution_count": null,
   "metadata": {},
   "outputs": [],
   "source": [
    "# add方法接收单个值添加到集合\n",
    "b_set = {1, 2}\n",
    "b_set.add(3)\n",
    "b_set # {1, 2, 3}"
   ]
  },
  {
   "cell_type": "code",
   "execution_count": null,
   "metadata": {},
   "outputs": [],
   "source": [
    "# update方法接受一个或多个集合或一些其他数据类型作为参数，添加所有成员到初始列表。\n",
    "c_set = {1,2}\n",
    "\n",
    "c_set.update({2, 3})\n",
    "c_set # {1, 2, 3}\n",
    "\n",
    "c_set.update({3, 4}, {4, 5})\n",
    "c_set # {1, 2, 3, 4, 5}\n",
    "\n",
    "c_set.update({5, 6}, [6, 7])\n",
    "c_set # {1, 2, 3, 4, 5, 6, 7}"
   ]
  },
  {
   "cell_type": "markdown",
   "metadata": {},
   "source": [
    "- 删除元素"
   ]
  },
  {
   "cell_type": "code",
   "execution_count": null,
   "metadata": {},
   "outputs": [],
   "source": [
    "d_set = {1, 2, 3, 4 ,5}\n",
    "\n",
    "# discard和remove都可以执行删除操作。对不存在的值调用discard，不进行任何操作，但是remove会报错。\n",
    "d_set.discard(1)\n",
    "d_set # {2, 3, 4, 5}\n",
    "d_set.discard(1)\n",
    "\n",
    "d_set.remove(2)\n",
    "d_set # {4, 8, 16}\n",
    "d_set.remove(2) # KeyError..."
   ]
  },
  {
   "cell_type": "code",
   "execution_count": null,
   "metadata": {},
   "outputs": [],
   "source": [
    "# pop方法随机删除一个值\n",
    "e_set = {1, 2, 3, 4 ,5}\n",
    "e_set.pop() \n",
    "\n",
    "# clear方法删除所有值\n",
    "e_set.clear()\n",
    "e_set # set()\n",
    "\n",
    "# 试图从空集合弹出某值会抛出异常\n",
    "e_set.pop() # KeyError"
   ]
  },
  {
   "cell_type": "markdown",
   "metadata": {},
   "source": [
    "- 集合运算"
   ]
  },
  {
   "cell_type": "code",
   "execution_count": null,
   "metadata": {},
   "outputs": [],
   "source": [
    "# 并集 使用union方法返回两个集合的并集的新集合\n",
    "f_set = {1, 2, 3}\n",
    "g_set = {3, 4, 5}\n",
    "f_set.union(g_set) # {1, 2, 3, 4, 5}\n",
    "\n",
    "# 交集 使用intersection方法返回两个集合的交集的新集合\n",
    "f_set.intersection(g_set) # {3}\n",
    "\n",
    "# difference返回a集合但未在b集合出现的新集合\n",
    "f_set.difference(g_set) #  {1, 2}\n",
    "\n",
    "# symmetric_difference返回只在其中一个集合中出现的元素\n",
    "f_set.symmetric_difference(g_set) # {1, 2, 4, 5}\n",
    "\n",
    "# 判断子集\n",
    "h_set = {1, 2, 3}\n",
    "i_set = {1, 2, 3, 4}\n",
    "\n",
    "h_set.issubset(i_set) # True\n",
    "i_set.issuperset(h_set) # True"
   ]
  },
  {
   "cell_type": "markdown",
   "metadata": {},
   "source": [
    "- 布尔上下文中的集合"
   ]
  },
  {
   "cell_type": "code",
   "execution_count": null,
   "metadata": {},
   "outputs": [],
   "source": [
    "# 空集合为假值\n",
    "bool(set()) # False\n",
    "bool({False}) # True"
   ]
  },
  {
   "cell_type": "markdown",
   "metadata": {},
   "source": [
    "**字典**"
   ]
  },
  {
   "cell_type": "code",
   "execution_count": null,
   "metadata": {},
   "outputs": [],
   "source": [
    "a_dict = {'server': 'db.diveintopython3.org', 'database': 'mysql'} \n",
    "# 访问没有的键会抛出异常\n",
    "a_dict['db.diveintopython3.org'] # KeyError\n",
    "\n",
    "# 修改\n",
    "a_dict['database'] = 'postgres'\n",
    "a_dict # {'server': 'db.diveintopython3.org', 'database': 'postgres'}\n",
    "\n",
    "# 混合值字典\n",
    "SUFFIXES = {1000: ['KB', 'MB', 'GB', 'TB', 'PB', 'EB', 'ZB', 'YB'],1024: ['KiB', 'MiB', 'GiB', 'TiB', 'PiB', 'EiB', 'ZiB', 'YiB']}\n",
    "\n",
    "# len方法返回字典键的数量\n",
    "len(SUFFIXES) # SUFFIXES"
   ]
  },
  {
   "cell_type": "markdown",
   "metadata": {},
   "source": [
    "- 布尔上下文中的字典"
   ]
  },
  {
   "cell_type": "code",
   "execution_count": null,
   "metadata": {},
   "outputs": [],
   "source": [
    "空字典为假值\n",
    "type({}) # dict\n",
    "bool({}) # False"
   ]
  },
  {
   "cell_type": "markdown",
   "metadata": {},
   "source": [
    "**NoneType**"
   ]
  },
  {
   "cell_type": "markdown",
   "metadata": {},
   "source": [
    "> `None`是*Python*中的特殊常量"
   ]
  },
  {
   "cell_type": "code",
   "execution_count": 7,
   "metadata": {},
   "outputs": [
    {
     "data": {
      "text/plain": [
       "False"
      ]
     },
     "execution_count": 7,
     "metadata": {},
     "output_type": "execute_result"
    }
   ],
   "source": [
    "# None是Python中的特殊常量\n",
    "type(None) # NoneType\n",
    "\n",
    "# None是空值，和False或者0不同\n",
    "None == 0 # False\n",
    "None == '' # False\n",
    "\n",
    "None == None # True"
   ]
  },
  {
   "cell_type": "markdown",
   "metadata": {},
   "source": [
    "- 布尔上下文中的`None`"
   ]
  },
  {
   "cell_type": "code",
   "execution_count": 8,
   "metadata": {},
   "outputs": [
    {
     "data": {
      "text/plain": [
       "True"
      ]
     },
     "execution_count": 8,
     "metadata": {},
     "output_type": "execute_result"
    }
   ],
   "source": [
    "# None为假值，not None为真值\n",
    "bool(None) # False\n",
    "bool(not None) # True"
   ]
  }
 ],
 "metadata": {
  "kernelspec": {
   "display_name": "Python 3",
   "language": "python",
   "name": "python3"
  },
  "language_info": {
   "codemirror_mode": {
    "name": "ipython",
    "version": 3
   },
   "file_extension": ".py",
   "mimetype": "text/x-python",
   "name": "python",
   "nbconvert_exporter": "python",
   "pygments_lexer": "ipython3",
   "version": "3.8.3"
  }
 },
 "nbformat": 4,
 "nbformat_minor": 4
}
